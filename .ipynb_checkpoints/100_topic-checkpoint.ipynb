{
 "cells": [
  {
   "cell_type": "code",
   "execution_count": 1,
   "metadata": {},
   "outputs": [],
   "source": [
    "import numpy as np"
   ]
  },
  {
   "cell_type": "code",
   "execution_count": 2,
   "metadata": {},
   "outputs": [
    {
     "name": "stdout",
     "output_type": "stream",
     "text": [
      "1.15.3\n",
      "blas_mkl_info:\n",
      "  NOT AVAILABLE\n",
      "blis_info:\n",
      "  NOT AVAILABLE\n",
      "openblas_info:\n",
      "    library_dirs = ['C:\\\\projects\\\\numpy-wheels\\\\numpy\\\\build\\\\openblas']\n",
      "    libraries = ['openblas']\n",
      "    language = f77\n",
      "    define_macros = [('HAVE_CBLAS', None)]\n",
      "blas_opt_info:\n",
      "    library_dirs = ['C:\\\\projects\\\\numpy-wheels\\\\numpy\\\\build\\\\openblas']\n",
      "    libraries = ['openblas']\n",
      "    language = f77\n",
      "    define_macros = [('HAVE_CBLAS', None)]\n",
      "lapack_mkl_info:\n",
      "  NOT AVAILABLE\n",
      "openblas_lapack_info:\n",
      "    library_dirs = ['C:\\\\projects\\\\numpy-wheels\\\\numpy\\\\build\\\\openblas']\n",
      "    libraries = ['openblas']\n",
      "    language = f77\n",
      "    define_macros = [('HAVE_CBLAS', None)]\n",
      "lapack_opt_info:\n",
      "    library_dirs = ['C:\\\\projects\\\\numpy-wheels\\\\numpy\\\\build\\\\openblas']\n",
      "    libraries = ['openblas']\n",
      "    language = f77\n",
      "    define_macros = [('HAVE_CBLAS', None)]\n"
     ]
    }
   ],
   "source": [
    "print(np.__version__)\n",
    "np.show_config()"
   ]
  },
  {
   "cell_type": "code",
   "execution_count": 3,
   "metadata": {},
   "outputs": [
    {
     "name": "stdout",
     "output_type": "stream",
     "text": [
      "[0. 0. 0. 0. 0. 0. 0. 0. 0. 0.]\n"
     ]
    }
   ],
   "source": [
    "Z=np.zeros(10)\n",
    "print(Z)"
   ]
  },
  {
   "cell_type": "code",
   "execution_count": 4,
   "metadata": {},
   "outputs": [
    {
     "name": "stdout",
     "output_type": "stream",
     "text": [
      "80 bytes\n",
      "1000 8\n",
      "8000 bytes\n"
     ]
    }
   ],
   "source": [
    "print(\"%d bytes\"%(Z.size*Z.itemsize))#内存大小\n",
    "Z1=np.zeros(1000)\n",
    "print(Z1.size,Z1.itemsize)\n",
    "print(\"%d bytes\"%(Z1.size*Z1.itemsize))#内存大小"
   ]
  },
  {
   "cell_type": "code",
   "execution_count": 5,
   "metadata": {},
   "outputs": [
    {
     "name": "stdout",
     "output_type": "stream",
     "text": [
      "add(x1, x2, /, out=None, *, where=True, casting='same_kind', order='K', dtype=None, subok=True[, signature, extobj])\n",
      "\n",
      "Add arguments element-wise.\n",
      "\n",
      "Parameters\n",
      "----------\n",
      "x1, x2 : array_like\n",
      "    The arrays to be added.  If ``x1.shape != x2.shape``, they must be\n",
      "    broadcastable to a common shape (which may be the shape of one or\n",
      "    the other).\n",
      "out : ndarray, None, or tuple of ndarray and None, optional\n",
      "    A location into which the result is stored. If provided, it must have\n",
      "    a shape that the inputs broadcast to. If not provided or `None`,\n",
      "    a freshly-allocated array is returned. A tuple (possible only as a\n",
      "    keyword argument) must have length equal to the number of outputs.\n",
      "where : array_like, optional\n",
      "    Values of True indicate to calculate the ufunc at that position, values\n",
      "    of False indicate to leave the value in the output alone.\n",
      "**kwargs\n",
      "    For other keyword-only arguments, see the\n",
      "    :ref:`ufunc docs <ufuncs.kwargs>`.\n",
      "\n",
      "Returns\n",
      "-------\n",
      "add : ndarray or scalar\n",
      "    The sum of `x1` and `x2`, element-wise.\n",
      "    This is a scalar if both `x1` and `x2` are scalars.\n",
      "\n",
      "Notes\n",
      "-----\n",
      "Equivalent to `x1` + `x2` in terms of array broadcasting.\n",
      "\n",
      "Examples\n",
      "--------\n",
      ">>> np.add(1.0, 4.0)\n",
      "5.0\n",
      ">>> x1 = np.arange(9.0).reshape((3, 3))\n",
      ">>> x2 = np.arange(3.0)\n",
      ">>> np.add(x1, x2)\n",
      "array([[  0.,   2.,   4.],\n",
      "       [  3.,   5.,   7.],\n",
      "       [  6.,   8.,  10.]])\n"
     ]
    }
   ],
   "source": [
    "np.info(np.add)"
   ]
  },
  {
   "cell_type": "code",
   "execution_count": 6,
   "metadata": {},
   "outputs": [
    {
     "name": "stdout",
     "output_type": "stream",
     "text": [
      "[0. 0. 0. 0. 1. 0. 0. 0. 0. 0.]\n"
     ]
    }
   ],
   "source": [
    "#单个赋值\n",
    "Z=np.zeros(10)\n",
    "Z[4]=1\n",
    "print(Z)"
   ]
  },
  {
   "cell_type": "code",
   "execution_count": 7,
   "metadata": {},
   "outputs": [
    {
     "name": "stdout",
     "output_type": "stream",
     "text": [
      "[10 11 12 13 14 15 16 17 18 19 20 21 22 23 24 25 26 27 28 29 30 31 32 33\n",
      " 34 35 36 37 38 39]\n"
     ]
    }
   ],
   "source": [
    "#范围值\n",
    "Z=np.arange(10,40)\n",
    "print(Z)"
   ]
  },
  {
   "cell_type": "code",
   "execution_count": 8,
   "metadata": {},
   "outputs": [
    {
     "name": "stdout",
     "output_type": "stream",
     "text": [
      "[39 38 37 36 35 34 33 32 31 30 29 28 27 26 25 24 23 22 21 20 19 18 17 16\n",
      " 15 14 13 12 11 10]\n"
     ]
    }
   ],
   "source": [
    "Z1=np.arange(40)\n",
    "Z2=Z[::-1]#逆转list\n",
    "print(Z2)"
   ]
  },
  {
   "cell_type": "code",
   "execution_count": 9,
   "metadata": {},
   "outputs": [
    {
     "name": "stdout",
     "output_type": "stream",
     "text": [
      "[[0 1 2]\n",
      " [3 4 5]\n",
      " [6 7 8]]\n"
     ]
    }
   ],
   "source": [
    "Z=np.arange(9).reshape(3,3)\n",
    "print(Z)"
   ]
  },
  {
   "cell_type": "code",
   "execution_count": 10,
   "metadata": {},
   "outputs": [
    {
     "name": "stdout",
     "output_type": "stream",
     "text": [
      "(array([0, 1, 4], dtype=int64),)\n"
     ]
    }
   ],
   "source": [
    "#找到非零索引\n",
    "nz=np.nonzero([1,2,0,0,4,0])\n",
    "print(nz)"
   ]
  },
  {
   "cell_type": "code",
   "execution_count": 11,
   "metadata": {},
   "outputs": [
    {
     "name": "stdout",
     "output_type": "stream",
     "text": [
      "[[1. 0. 0.]\n",
      " [0. 1. 0.]\n",
      " [0. 0. 1.]]\n"
     ]
    }
   ],
   "source": [
    "Z=np.eye(3)\n",
    "print(Z)"
   ]
  },
  {
   "cell_type": "code",
   "execution_count": 12,
   "metadata": {},
   "outputs": [
    {
     "name": "stdout",
     "output_type": "stream",
     "text": [
      "[[[0.67642343 0.17455694 0.92400377]\n",
      "  [0.97057874 0.72675878 0.1832678 ]\n",
      "  [0.37332778 0.8822369  0.66027134]]\n",
      "\n",
      " [[0.4792456  0.75783685 0.09755878]\n",
      "  [0.64781144 0.16633618 0.37388717]\n",
      "  [0.38901403 0.47547391 0.01103926]]\n",
      "\n",
      " [[0.70740046 0.34076498 0.32404108]\n",
      "  [0.00620739 0.6518075  0.15286504]\n",
      "  [0.47515709 0.03906352 0.53309787]]]\n"
     ]
    }
   ],
   "source": [
    "Z=np.random.random((3,3,3))\n",
    "print(Z)"
   ]
  },
  {
   "cell_type": "code",
   "execution_count": 13,
   "metadata": {},
   "outputs": [
    {
     "name": "stdout",
     "output_type": "stream",
     "text": [
      "0.013300769038110394 0.9994830041578211\n"
     ]
    }
   ],
   "source": [
    "Z=np.random.random((10,10))\n",
    "Zmin,Zmax=Z.min(),Z.max()\n",
    "print(Zmin,Zmax)"
   ]
  },
  {
   "cell_type": "code",
   "execution_count": 14,
   "metadata": {},
   "outputs": [
    {
     "name": "stdout",
     "output_type": "stream",
     "text": [
      "0.508593556772054\n"
     ]
    }
   ],
   "source": [
    "Z=np.random.random(30)\n",
    "m=Z.mean()\n",
    "print(m)"
   ]
  },
  {
   "cell_type": "code",
   "execution_count": 15,
   "metadata": {},
   "outputs": [
    {
     "name": "stdout",
     "output_type": "stream",
     "text": [
      "[[1. 1. 1. 1. 1. 1. 1. 1. 1. 1.]\n",
      " [1. 0. 0. 0. 0. 0. 0. 0. 0. 1.]\n",
      " [1. 0. 0. 0. 0. 0. 0. 0. 0. 1.]\n",
      " [1. 0. 0. 0. 0. 0. 0. 0. 0. 1.]\n",
      " [1. 0. 0. 0. 0. 0. 0. 0. 0. 1.]\n",
      " [1. 0. 0. 0. 0. 0. 0. 0. 0. 1.]\n",
      " [1. 0. 0. 0. 0. 0. 0. 0. 0. 1.]\n",
      " [1. 0. 0. 0. 0. 0. 0. 0. 0. 1.]\n",
      " [1. 0. 0. 0. 0. 0. 0. 0. 0. 1.]\n",
      " [1. 1. 1. 1. 1. 1. 1. 1. 1. 1.]]\n"
     ]
    }
   ],
   "source": [
    "#范围换值\n",
    "Z=np.ones((10,10))\n",
    "Z[1:-1,1:-1]=0\n",
    "print(Z)"
   ]
  },
  {
   "cell_type": "code",
   "execution_count": 16,
   "metadata": {},
   "outputs": [
    {
     "name": "stdout",
     "output_type": "stream",
     "text": [
      "[[0. 0. 0. 0. 0. 0. 0. 0. 0.]\n",
      " [0. 0. 0. 0. 0. 0. 0. 0. 0.]\n",
      " [0. 0. 1. 1. 1. 1. 1. 0. 0.]\n",
      " [0. 0. 1. 1. 1. 1. 1. 0. 0.]\n",
      " [0. 0. 1. 1. 1. 1. 1. 0. 0.]\n",
      " [0. 0. 1. 1. 1. 1. 1. 0. 0.]\n",
      " [0. 0. 1. 1. 1. 1. 1. 0. 0.]\n",
      " [0. 0. 0. 0. 0. 0. 0. 0. 0.]\n",
      " [0. 0. 0. 0. 0. 0. 0. 0. 0.]]\n"
     ]
    }
   ],
   "source": [
    "#pad...扩充\n",
    "Z=np.ones((5,5))\n",
    "Z=np.pad(Z,pad_width=2,mode=\"constant\",constant_values=0)\n",
    "print(Z)"
   ]
  },
  {
   "cell_type": "code",
   "execution_count": 17,
   "metadata": {},
   "outputs": [
    {
     "name": "stdout",
     "output_type": "stream",
     "text": [
      "nan\n",
      "False\n",
      "False\n",
      "inf\n",
      "nan\n",
      "False\n",
      "0.30000000000000004\n",
      "<class 'float'>\n",
      "<class 'float'>\n",
      "5.551115123125783e-17\n"
     ]
    }
   ],
   "source": [
    "print(0*np.nan)\n",
    "print(np.nan==np.nan)\n",
    "print(np.inf>np.nan)\n",
    "print(np.inf)\n",
    "print(np.nan-np.nan)\n",
    "print(0.3==0.1*3)\n",
    "print(0.1*3)\n",
    "print(type(0.1*3))\n",
    "print(type(0.3))\n",
    "a=0.1*3\n",
    "b=0.3\n",
    "print(a-b)"
   ]
  },
  {
   "cell_type": "code",
   "execution_count": 18,
   "metadata": {},
   "outputs": [
    {
     "name": "stdout",
     "output_type": "stream",
     "text": [
      "[[0 0 0 0 0]\n",
      " [1 0 0 0 0]\n",
      " [0 2 0 0 0]\n",
      " [0 0 3 0 0]\n",
      " [0 0 0 4 0]]\n",
      "[[1 0 0 0 0]\n",
      " [0 2 0 0 0]\n",
      " [0 0 3 0 0]\n",
      " [0 0 0 4 0]\n",
      " [0 0 0 0 5]]\n"
     ]
    }
   ],
   "source": [
    "#对角线上赋值\n",
    "Z=np.diag(1+np.arange(4),k=-1)\n",
    "print(Z)\n",
    "Z=np.diag(1+np.arange(5),k=0)\n",
    "print(Z)"
   ]
  },
  {
   "cell_type": "code",
   "execution_count": 19,
   "metadata": {},
   "outputs": [
    {
     "name": "stdout",
     "output_type": "stream",
     "text": [
      "[[0 0 0 0 0 0 0 0]\n",
      " [0 0 0 0 0 0 0 0]\n",
      " [0 0 0 0 0 0 0 0]\n",
      " [0 0 0 0 0 0 0 0]\n",
      " [0 0 0 0 0 0 0 0]\n",
      " [0 0 0 0 0 0 0 0]\n",
      " [0 0 0 0 0 0 0 0]\n",
      " [0 0 0 0 0 0 0 0]]\n",
      "[[0 1 0 1 0 1 0 1]\n",
      " [1 0 1 0 1 0 1 0]\n",
      " [0 1 0 1 0 1 0 1]\n",
      " [1 0 1 0 1 0 1 0]\n",
      " [0 1 0 1 0 1 0 1]\n",
      " [1 0 1 0 1 0 1 0]\n",
      " [0 1 0 1 0 1 0 1]\n",
      " [1 0 1 0 1 0 1 0]]\n"
     ]
    }
   ],
   "source": [
    "Z=np.zeros((8,8),dtype=int)\n",
    "print(Z)\n",
    "Z[1::2,::2]=1\n",
    "Z[::2,1::2]=1\n",
    "print(Z)"
   ]
  },
  {
   "cell_type": "code",
   "execution_count": 20,
   "metadata": {},
   "outputs": [
    {
     "name": "stdout",
     "output_type": "stream",
     "text": [
      "(0, 0, 1)\n",
      "(0, 0, 2)\n",
      "(0, 0, 3)\n",
      "(0, 1, 2)\n",
      "(1, 0)\n",
      "(1, 1)\n"
     ]
    }
   ],
   "source": [
    "#求一个numpy 中第i个值得下标\n",
    "print(np.unravel_index(1,(6,7,8)))\n",
    "print(np.unravel_index(2,(6,7,8)))\n",
    "print(np.unravel_index(3,(6,7,8)))\n",
    "print(np.unravel_index(10,(6,7,8)))\n",
    "print(np.unravel_index(10,(10,10)))\n",
    "print(np.unravel_index(11,(10,10)))"
   ]
  },
  {
   "cell_type": "code",
   "execution_count": 21,
   "metadata": {},
   "outputs": [
    {
     "name": "stdout",
     "output_type": "stream",
     "text": [
      "[[0 1 0 1 0 1 0 1]\n",
      " [1 0 1 0 1 0 1 0]\n",
      " [0 1 0 1 0 1 0 1]\n",
      " [1 0 1 0 1 0 1 0]\n",
      " [0 1 0 1 0 1 0 1]\n",
      " [1 0 1 0 1 0 1 0]\n",
      " [0 1 0 1 0 1 0 1]\n",
      " [1 0 1 0 1 0 1 0]]\n"
     ]
    }
   ],
   "source": [
    "Z=np.tile(np.array([[0,1],[1,0]]),(4,4))\n",
    "print(Z)"
   ]
  },
  {
   "cell_type": "code",
   "execution_count": 22,
   "metadata": {},
   "outputs": [
    {
     "name": "stdout",
     "output_type": "stream",
     "text": [
      "[[0.18724333 0.65229319 0.0189533  0.19871598 0.05848875]\n",
      " [0.98022833 0.75130115 0.47583425 0.62978783 0.48859986]\n",
      " [0.08894138 1.         0.22112368 0.6065828  0.06855032]\n",
      " [0.15919506 0.6737404  0.75436021 0.32605927 0.42054291]\n",
      " [0.46885544 0.         0.29514425 0.20600177 0.7567849 ]]\n"
     ]
    }
   ],
   "source": [
    "#均值归一化\n",
    "Z=np.random.random((5,5))\n",
    "Zmax,Zmin=Z.max(),Z.min()\n",
    "Z_s=(Z-Zmin)/(Zmax-Zmin)\n",
    "print(Z_s)\n"
   ]
  },
  {
   "cell_type": "code",
   "execution_count": 23,
   "metadata": {},
   "outputs": [
    {
     "data": {
      "text/plain": [
       "dtype([('r', 'u1'), ('g', 'u1'), ('b', 'u1'), ('a', 'u1')])"
      ]
     },
     "execution_count": 23,
     "metadata": {},
     "output_type": "execute_result"
    }
   ],
   "source": [
    "color=np.dtype([(\"r\",np.ubyte,1),\n",
    "                (\"g\",np.ubyte,1),\n",
    "                (\"b\",np.ubyte,1),\n",
    "                (\"a\",np.ubyte,1)\n",
    "               ])\n",
    "color"
   ]
  },
  {
   "cell_type": "code",
   "execution_count": 24,
   "metadata": {},
   "outputs": [
    {
     "name": "stdout",
     "output_type": "stream",
     "text": [
      "[[3. 3.]\n",
      " [3. 3.]\n",
      " [3. 3.]\n",
      " [3. 3.]\n",
      " [3. 3.]]\n"
     ]
    }
   ],
   "source": [
    "np.ones((3,4))\n",
    "Z=np.dot(np.ones((5,3)),np.ones((3,2)))\n",
    "print(Z)"
   ]
  },
  {
   "cell_type": "code",
   "execution_count": 25,
   "metadata": {},
   "outputs": [
    {
     "name": "stdout",
     "output_type": "stream",
     "text": [
      "[ 0  1  2  3 -4 -5 -6 -7 -8  9 10]\n"
     ]
    }
   ],
   "source": [
    "#区域运算\n",
    "Z=np.arange(11)\n",
    "Z[(3<Z)&(Z<=8)]*=-1\n",
    "print(Z)"
   ]
  },
  {
   "cell_type": "code",
   "execution_count": 26,
   "metadata": {},
   "outputs": [
    {
     "name": "stdout",
     "output_type": "stream",
     "text": [
      "9\n",
      "10\n",
      "--------------\n",
      "0\n",
      "-1\n",
      "-2\n",
      "0.0\n"
     ]
    }
   ],
   "source": [
    "#为什么差1呢？？？\n",
    "print(sum(range(5),-1))\n",
    "print(np.sum(range(5),-1))\n",
    "print(\"--------------\")\n",
    "print(sum(range(0)))\n",
    "print(sum(range(0),-1))#非np得sum，从m开始计算求和。\n",
    "print(sum(range(0),-2))\n",
    "print(np.sum(range(0),-1))"
   ]
  },
  {
   "cell_type": "code",
   "execution_count": 27,
   "metadata": {},
   "outputs": [
    {
     "data": {
      "text/plain": [
       "array([  0.,  25.,  50.,  75., 100.])"
      ]
     },
     "execution_count": 27,
     "metadata": {},
     "output_type": "execute_result"
    }
   ],
   "source": [
    "Z=np.arange(5)\n",
    "Z**Z\n",
    "\n",
    "1j*Z\n",
    "Z/0.2/0.2"
   ]
  },
  {
   "cell_type": "code",
   "execution_count": 28,
   "metadata": {},
   "outputs": [
    {
     "name": "stdout",
     "output_type": "stream",
     "text": [
      "nan\n",
      "0\n",
      "[-2.14748365e+09]\n"
     ]
    },
    {
     "name": "stderr",
     "output_type": "stream",
     "text": [
      "C:\\Love\\Anaconda3\\lib\\site-packages\\ipykernel_launcher.py:1: RuntimeWarning: invalid value encountered in true_divide\n",
      "  \"\"\"Entry point for launching an IPython kernel.\n",
      "C:\\Love\\Anaconda3\\lib\\site-packages\\ipykernel_launcher.py:2: RuntimeWarning: divide by zero encountered in floor_divide\n",
      "  \n"
     ]
    }
   ],
   "source": [
    "print(np.array(0)/np.array(0))\n",
    "print(np.array(0)//np.array(0))\n",
    "print(np.array([np.nan]).astype(int).astype(float))"
   ]
  },
  {
   "cell_type": "code",
   "execution_count": 29,
   "metadata": {},
   "outputs": [
    {
     "data": {
      "text/plain": [
       "array(0)"
      ]
     },
     "execution_count": 29,
     "metadata": {},
     "output_type": "execute_result"
    }
   ],
   "source": [
    "np.array(0)"
   ]
  },
  {
   "cell_type": "code",
   "execution_count": 30,
   "metadata": {},
   "outputs": [
    {
     "name": "stdout",
     "output_type": "stream",
     "text": [
      "[ 5. -7.  7.  1. 10.  9. -2.  5.  9. -5.]\n"
     ]
    }
   ],
   "source": [
    "Z=np.random.uniform(-10,+10,10)#随机数\n",
    "print(np.copysign(np.ceil(np.abs(Z)),Z))#ceil四舍五入  "
   ]
  },
  {
   "cell_type": "code",
   "execution_count": 31,
   "metadata": {},
   "outputs": [
    {
     "name": "stdout",
     "output_type": "stream",
     "text": [
      "copysign(x1, x2, /, out=None, *, where=True, casting='same_kind', order='K', dtype=None, subok=True[, signature, extobj])\n",
      "\n",
      "Change the sign of x1 to that of x2, element-wise.\n",
      "\n",
      "If both arguments are arrays or sequences, they have to be of the same\n",
      "length. If `x2` is a scalar, its sign will be copied to all elements of\n",
      "`x1`.\n",
      "\n",
      "Parameters\n",
      "----------\n",
      "x1 : array_like\n",
      "    Values to change the sign of.\n",
      "x2 : array_like\n",
      "    The sign of `x2` is copied to `x1`.\n",
      "out : ndarray, None, or tuple of ndarray and None, optional\n",
      "    A location into which the result is stored. If provided, it must have\n",
      "    a shape that the inputs broadcast to. If not provided or `None`,\n",
      "    a freshly-allocated array is returned. A tuple (possible only as a\n",
      "    keyword argument) must have length equal to the number of outputs.\n",
      "where : array_like, optional\n",
      "    Values of True indicate to calculate the ufunc at that position, values\n",
      "    of False indicate to leave the value in the output alone.\n",
      "**kwargs\n",
      "    For other keyword-only arguments, see the\n",
      "    :ref:`ufunc docs <ufuncs.kwargs>`.\n",
      "\n",
      "Returns\n",
      "-------\n",
      "out : ndarray or scalar\n",
      "    The values of `x1` with the sign of `x2`.\n",
      "    This is a scalar if both `x1` and `x2` are scalars.\n",
      "\n",
      "Examples\n",
      "--------\n",
      ">>> np.copysign(1.3, -1)\n",
      "-1.3\n",
      ">>> 1/np.copysign(0, 1)\n",
      "inf\n",
      ">>> 1/np.copysign(0, -1)\n",
      "-inf\n",
      "\n",
      ">>> np.copysign([-1, 0, 1], -1.1)\n",
      "array([-1., -0., -1.])\n",
      ">>> np.copysign([-1, 0, 1], np.arange(3)-1)\n",
      "array([-1.,  0.,  1.])\n"
     ]
    }
   ],
   "source": [
    "#np.info(np.random.uniform)\n",
    "#np.info(np.ceil)\n",
    "np.info(np.copysign)"
   ]
  },
  {
   "cell_type": "code",
   "execution_count": 32,
   "metadata": {},
   "outputs": [
    {
     "name": "stdout",
     "output_type": "stream",
     "text": [
      "[]\n"
     ]
    }
   ],
   "source": [
    "#两个np.arrry中相同得元素\n",
    "Z1=np.random.randint(0,10,10)\n",
    "Z2=np.random.randint(0,10,10)\n",
    "print(np.intersect1d(Z1,Z2))"
   ]
  },
  {
   "cell_type": "code",
   "execution_count": 33,
   "metadata": {},
   "outputs": [
    {
     "name": "stdout",
     "output_type": "stream",
     "text": [
      "[inf]\n"
     ]
    }
   ],
   "source": [
    "defaults=np.seterr(all=\"ignore\")\n",
    "Z=np.ones(1)/0\n",
    "_=np.seterr(**defaults)\n",
    "with np.errstate(divide=\"ignore\"):\n",
    "    Z=np.ones(1)/0\n",
    "    print(Z)"
   ]
  },
  {
   "cell_type": "code",
   "execution_count": 34,
   "metadata": {},
   "outputs": [
    {
     "name": "stderr",
     "output_type": "stream",
     "text": [
      "C:\\Love\\Anaconda3\\lib\\site-packages\\ipykernel_launcher.py:1: RuntimeWarning: invalid value encountered in sqrt\n",
      "  \"\"\"Entry point for launching an IPython kernel.\n"
     ]
    },
    {
     "data": {
      "text/plain": [
       "False"
      ]
     },
     "execution_count": 34,
     "metadata": {},
     "output_type": "execute_result"
    }
   ],
   "source": [
    "np.sqrt(-1)==np.emath.sqrt(-1)"
   ]
  },
  {
   "cell_type": "code",
   "execution_count": 35,
   "metadata": {},
   "outputs": [
    {
     "name": "stdout",
     "output_type": "stream",
     "text": [
      "Wrapper functions to more user-friendly calling of certain math functions\n",
      "whose output data-type is different than the input data-type in certain\n",
      "domains of the input.\n",
      "\n",
      "For example, for functions like `log` with branch cuts, the versions in this\n",
      "module provide the mathematically valid answers in the complex plane::\n",
      "\n",
      "  >>> import math\n",
      "  >>> from numpy.lib import scimath\n",
      "  >>> scimath.log(-math.exp(1)) == (1+1j*math.pi)\n",
      "  True\n",
      "\n",
      "Similarly, `sqrt`, other base logarithms, `power` and trig functions are\n",
      "correctly handled.  See their respective docstrings for specific examples.\n"
     ]
    }
   ],
   "source": [
    "np.info(np.emath)"
   ]
  },
  {
   "cell_type": "code",
   "execution_count": 36,
   "metadata": {},
   "outputs": [
    {
     "name": "stdout",
     "output_type": "stream",
     "text": [
      "2019-06-25\n",
      "2019-06-26\n",
      "2019-06-27\n"
     ]
    }
   ],
   "source": [
    "yesterday=np.datetime64(\"today\",\"D\")-np.timedelta64(1,\"D\")\n",
    "print(yesterday)\n",
    "today=np.datetime64(\"today\",\"D\")\n",
    "print(today)\n",
    "tomorrow=np.datetime64(\"today\",\"D\")+np.timedelta64(1,\"D\")\n",
    "print(tomorrow)"
   ]
  },
  {
   "cell_type": "code",
   "execution_count": 37,
   "metadata": {},
   "outputs": [
    {
     "name": "stdout",
     "output_type": "stream",
     "text": [
      "['2016-07-01' '2016-07-02' '2016-07-03' '2016-07-04' '2016-07-05'\n",
      " '2016-07-06' '2016-07-07' '2016-07-08' '2016-07-09' '2016-07-10'\n",
      " '2016-07-11' '2016-07-12' '2016-07-13' '2016-07-14' '2016-07-15'\n",
      " '2016-07-16' '2016-07-17' '2016-07-18' '2016-07-19' '2016-07-20'\n",
      " '2016-07-21' '2016-07-22' '2016-07-23' '2016-07-24' '2016-07-25'\n",
      " '2016-07-26' '2016-07-27' '2016-07-28' '2016-07-29' '2016-07-30'\n",
      " '2016-07-31']\n"
     ]
    }
   ],
   "source": [
    "#时间的范围\n",
    "Z=np.arange(\"2016-07\",\"2016-08\",dtype=\"datetime64[D]\")\n",
    "print(Z)"
   ]
  },
  {
   "cell_type": "code",
   "execution_count": 38,
   "metadata": {},
   "outputs": [
    {
     "name": "stdout",
     "output_type": "stream",
     "text": [
      "[3. 3. 3.]\n"
     ]
    }
   ],
   "source": [
    "A=np.ones(3)*1\n",
    "B=np.ones(3)*2\n",
    "C=np.ones(3)*3\n",
    "x=np.add(A,B,out=B)\n",
    "print(x)"
   ]
  },
  {
   "cell_type": "code",
   "execution_count": 39,
   "metadata": {},
   "outputs": [
    {
     "data": {
      "text/plain": [
       "array([0.5, 0.5, 0.5])"
      ]
     },
     "execution_count": 39,
     "metadata": {},
     "output_type": "execute_result"
    }
   ],
   "source": [
    "np.divide(A,2,out=A)"
   ]
  },
  {
   "cell_type": "code",
   "execution_count": 40,
   "metadata": {},
   "outputs": [
    {
     "data": {
      "text/plain": [
       "array([-0.5, -0.5, -0.5])"
      ]
     },
     "execution_count": 40,
     "metadata": {},
     "output_type": "execute_result"
    }
   ],
   "source": [
    "np.negative(A,out=A)"
   ]
  },
  {
   "cell_type": "code",
   "execution_count": 41,
   "metadata": {},
   "outputs": [
    {
     "data": {
      "text/plain": [
       "array([-1.5, -1.5, -1.5])"
      ]
     },
     "execution_count": 41,
     "metadata": {},
     "output_type": "execute_result"
    }
   ],
   "source": [
    "np.multiply(A,B,out=A)"
   ]
  },
  {
   "cell_type": "code",
   "execution_count": 42,
   "metadata": {},
   "outputs": [
    {
     "name": "stdout",
     "output_type": "stream",
     "text": [
      "[4.17659098 8.11023258 1.30642448 2.69161447 5.45328149 6.32127724\n",
      " 3.18466373 5.27586713 9.25122801 8.80352496]\n",
      "[4. 8. 1. 2. 5. 6. 3. 5. 9. 8.]\n",
      "[4. 8. 1. 2. 5. 6. 3. 5. 9. 8.]\n",
      "[4 8 1 2 5 6 3 5 9 8]\n",
      "[4. 8. 1. 2. 5. 6. 3. 5. 9. 8.]\n"
     ]
    }
   ],
   "source": [
    "#提取一个数字的整数部分\n",
    "Z=np.random.uniform(0,10,10)\n",
    "print(Z)\n",
    "print(np.floor(Z))\n",
    "print(np.ceil(Z)-1)\n",
    "print(Z.astype(int))\n",
    "print(np.trunc(Z))"
   ]
  },
  {
   "cell_type": "code",
   "execution_count": 43,
   "metadata": {},
   "outputs": [
    {
     "name": "stdout",
     "output_type": "stream",
     "text": [
      "[[0. 1. 2. 3. 4.]\n",
      " [0. 1. 2. 3. 4.]\n",
      " [0. 1. 2. 3. 4.]\n",
      " [0. 1. 2. 3. 4.]\n",
      " [0. 1. 2. 3. 4.]]\n",
      "[0 1 2 3 4]\n",
      "[[0. 0. 0. 0. 0.]]\n"
     ]
    }
   ],
   "source": [
    "Z=np.zeros((5,5))\n",
    "Z+=np.arange(5)\n",
    "print(Z)\n",
    "Z=np.zeros((1,5))\n",
    "print(np.arange(5))\n",
    "print(Z)"
   ]
  },
  {
   "cell_type": "code",
   "execution_count": 44,
   "metadata": {},
   "outputs": [
    {
     "name": "stdout",
     "output_type": "stream",
     "text": [
      "[0. 1. 2. 3. 4. 5. 6. 7. 8. 9.]\n",
      "<class 'numpy.ndarray'>\n"
     ]
    }
   ],
   "source": [
    "def generate():\n",
    "    for x in range(10):\n",
    "        yield x\n",
    "Z=np.fromiter(generate(),dtype=float)\n",
    "print(Z)\n",
    "print(type(Z))\n",
    "#print(np.info(np.fromiter))"
   ]
  },
  {
   "cell_type": "code",
   "execution_count": 45,
   "metadata": {},
   "outputs": [
    {
     "name": "stdout",
     "output_type": "stream",
     "text": [
      "[0.09090909 0.18181818 0.27272727 0.36363636 0.45454545 0.54545455\n",
      " 0.63636364 0.72727273 0.81818182 0.90909091]\n"
     ]
    }
   ],
   "source": [
    "Z=np.linspace(0,1,11,endpoint=False)[1:]\n",
    "print(Z)"
   ]
  },
  {
   "cell_type": "code",
   "execution_count": 46,
   "metadata": {},
   "outputs": [
    {
     "name": "stdout",
     "output_type": "stream",
     "text": [
      "[0.14795014 0.2059472  0.25983696 0.30979672 0.45249583 0.71692649\n",
      " 0.79331955 0.81028921 0.85632645 0.9649999 ]\n"
     ]
    }
   ],
   "source": [
    "Z=np.random.random(10)\n",
    "Z.sort()\n",
    "print(Z)"
   ]
  },
  {
   "cell_type": "code",
   "execution_count": 47,
   "metadata": {},
   "outputs": [
    {
     "data": {
      "text/plain": [
       "45"
      ]
     },
     "execution_count": 47,
     "metadata": {},
     "output_type": "execute_result"
    }
   ],
   "source": [
    "#对小数组做排序\n",
    "Z=np.arange(10)\n",
    "np.add.reduce(Z)"
   ]
  },
  {
   "cell_type": "code",
   "execution_count": 48,
   "metadata": {},
   "outputs": [
    {
     "name": "stdout",
     "output_type": "stream",
     "text": [
      "False\n",
      "False\n"
     ]
    }
   ],
   "source": [
    "A=np.random.randint(0,2,5)\n",
    "B=np.random.randint(0,2,5)\n",
    "equal=np.allclose(A,B)\n",
    "print(equal)\n",
    "equal=np.array_equal(A,B)\n",
    "print(equal)"
   ]
  },
  {
   "cell_type": "code",
   "execution_count": 49,
   "metadata": {},
   "outputs": [
    {
     "name": "stdout",
     "output_type": "stream",
     "text": [
      "0.0\n"
     ]
    }
   ],
   "source": [
    "#建立一个只读数组\n",
    "Z=np.zeros(10)\n",
    "Z.flags.writeable=False\n",
    "#Z[0]=1\n",
    "print(Z[0])"
   ]
  },
  {
   "cell_type": "code",
   "execution_count": 50,
   "metadata": {},
   "outputs": [
    {
     "name": "stdout",
     "output_type": "stream",
     "text": [
      "[0.70641626 1.16302395 0.4659974  0.54479976 0.97400128 0.63642088\n",
      " 0.70124543 0.33127922 0.60358325 0.20346114]\n",
      "[1.39790628 0.56027547 0.55720098 0.68829957 1.04078988 0.33613535\n",
      " 0.24209741 1.22178417 0.80132154 0.18781887]\n"
     ]
    }
   ],
   "source": [
    "Z=np.random.random((10,2))\n",
    "X,Y=Z[:,0],Z[:,1]\n",
    "R=np.sqrt(X**2+Y**2)\n",
    "T=np.arctan2(Y,X)\n",
    "print(R)\n",
    "print(T)"
   ]
  },
  {
   "cell_type": "code",
   "execution_count": 51,
   "metadata": {},
   "outputs": [
    {
     "name": "stdout",
     "output_type": "stream",
     "text": [
      "[0.33461123 0.04130424 0.53814745 0.22326589 0.17025479 0.67344007\n",
      " 0.29096987 0.3227599  0.37539026 0.        ]\n"
     ]
    }
   ],
   "source": [
    "#替换最大值\n",
    "Z=np.random.random(10)\n",
    "Z[Z.argmax()]=0\n",
    "print(Z)"
   ]
  },
  {
   "cell_type": "code",
   "execution_count": 52,
   "metadata": {},
   "outputs": [
    {
     "name": "stdout",
     "output_type": "stream",
     "text": [
      "[[(0., 0.) (0., 0.) (0., 0.) (0., 0.) (0., 0.)]\n",
      " [(0., 0.) (0., 0.) (0., 0.) (0., 0.) (0., 0.)]\n",
      " [(0., 0.) (0., 0.) (0., 0.) (0., 0.) (0., 0.)]\n",
      " [(0., 0.) (0., 0.) (0., 0.) (0., 0.) (0., 0.)]\n",
      " [(0., 0.) (0., 0.) (0., 0.) (0., 0.) (0., 0.)]]\n",
      "[[(0.  , 0.  ) (0.25, 0.25) (0.5 , 0.5 ) (0.75, 0.75) (1.  , 1.  )]\n",
      " [(0.  , 0.  ) (0.25, 0.25) (0.5 , 0.5 ) (0.75, 0.75) (1.  , 1.  )]\n",
      " [(0.  , 0.  ) (0.25, 0.25) (0.5 , 0.5 ) (0.75, 0.75) (1.  , 1.  )]\n",
      " [(0.  , 0.  ) (0.25, 0.25) (0.5 , 0.5 ) (0.75, 0.75) (1.  , 1.  )]\n",
      " [(0.  , 0.  ) (0.25, 0.25) (0.5 , 0.5 ) (0.75, 0.75) (1.  , 1.  )]]\n"
     ]
    }
   ],
   "source": [
    "Z=np.zeros((5,5),[(\"x\",float),(\"y\",float)])\n",
    "print(Z)\n",
    "Z[\"x\"],Z[\"y\"]=np.meshgrid(np.linspace(0,1,5)),np.linspace(0,1,5)#0--1分成5份\n",
    "print(Z)"
   ]
  },
  {
   "cell_type": "code",
   "execution_count": 53,
   "metadata": {},
   "outputs": [
    {
     "name": "stdout",
     "output_type": "stream",
     "text": [
      "3638.163637117973\n"
     ]
    }
   ],
   "source": [
    "#构建函数运算\n",
    "X=np.arange(8)\n",
    "Y=X+0.5\n",
    "C=1.0/np.subtract.outer(X,Y)\n",
    "print(np.linalg.det(C))"
   ]
  },
  {
   "cell_type": "code",
   "execution_count": 54,
   "metadata": {},
   "outputs": [
    {
     "name": "stdout",
     "output_type": "stream",
     "text": [
      "<class 'numpy.int8'>  --  -128\n",
      "<class 'numpy.int8'>  --  127\n",
      "<class 'numpy.int32'>  --  -2147483648\n",
      "<class 'numpy.int32'>  --  2147483647\n",
      "<class 'numpy.int64'>  --  -9223372036854775808\n",
      "<class 'numpy.int64'>  --  9223372036854775807\n",
      "-3.4028235e+38\n",
      "3.4028235e+38\n",
      "1.1920929e-07\n",
      "-1.7976931348623157e+308\n",
      "1.7976931348623157e+308\n",
      "2.220446049250313e-16\n"
     ]
    }
   ],
   "source": [
    "for dtype in [np.int8,np.int32,np.int64]:\n",
    "    print(dtype,\" -- \",np.iinfo(dtype).min)\n",
    "    print(dtype,\" -- \",np.iinfo(dtype).max)\n",
    "for dtype in [np.float32,np.float64]:\n",
    "    print(np.finfo(dtype).min)\n",
    "    print(np.finfo(dtype).max)\n",
    "    print(np.finfo(dtype).eps)"
   ]
  },
  {
   "cell_type": "code",
   "execution_count": 55,
   "metadata": {},
   "outputs": [
    {
     "name": "stdout",
     "output_type": "stream",
     "text": [
      "[[0. 0. 0. ... 0. 0. 0.]\n",
      " [0. 0. 0. ... 0. 0. 0.]\n",
      " [0. 0. 0. ... 0. 0. 0.]\n",
      " ...\n",
      " [0. 0. 0. ... 0. 0. 0.]\n",
      " [0. 0. 0. ... 0. 0. 0.]\n",
      " [0. 0. 0. ... 0. 0. 0.]]\n"
     ]
    }
   ],
   "source": [
    "#打印数组中的所有值\n",
    "np.set_printoptions(threshold=2)##设置为np.nan是错误的啊？？？\n",
    "Z=np.zeros((16,16))\n",
    "print(Z)"
   ]
  },
  {
   "cell_type": "code",
   "execution_count": 56,
   "metadata": {},
   "outputs": [
    {
     "name": "stdout",
     "output_type": "stream",
     "text": [
      "95.88132766541327  --->  96\n"
     ]
    }
   ],
   "source": [
    "#给定一个标量，找到一个数组中与该标量值最接近的数字\n",
    "Z=np.arange(100)\n",
    "v=np.random.uniform(0,100)\n",
    "index=(np.abs(Z-v)).argmin()\n",
    "print(v,\" ---> \",Z[index])"
   ]
  },
  {
   "cell_type": "code",
   "execution_count": 57,
   "metadata": {},
   "outputs": [
    {
     "name": "stdout",
     "output_type": "stream",
     "text": [
      "[((0., 0.), (0., 0., 0.))]\n"
     ]
    }
   ],
   "source": [
    "#构建结构化数组，内部可以包含n个组合\n",
    "Z=np.zeros(1,\n",
    "           [\n",
    "               (\"position\",[\n",
    "                   (\"x\",float,1),\n",
    "                   (\"y\",float,1)\n",
    "               ]),\n",
    "               (\"color\",[\n",
    "                   (\"r\",float,1),\n",
    "                   (\"g\",float,1),\n",
    "                   (\"b\",float,1)\n",
    "               ])\n",
    "           ]\n",
    "          )\n",
    "print(Z)"
   ]
  },
  {
   "cell_type": "code",
   "execution_count": 58,
   "metadata": {},
   "outputs": [
    {
     "name": "stdout",
     "output_type": "stream",
     "text": [
      "-------------\n",
      "[[0.27071979 0.03902019]\n",
      " [0.0611413  0.34787429]\n",
      " [0.97386405 0.16142147]\n",
      " ...\n",
      " [0.14262683 0.80949285]\n",
      " [0.02752778 0.30655036]\n",
      " [0.46038042 0.11676793]]\n",
      "[[0.         0.37324791 0.71371838 ... 0.78104797 0.36154494 0.20497772]\n",
      " [0.37324791 0.         0.93157258 ... 0.46875536 0.05326853 0.4613047 ]\n",
      " [0.71371838 0.93157258 0.         ... 1.054017   0.95739998 0.51542156]\n",
      " ...\n",
      " [0.78104797 0.46875536 1.054017   ... 0.         0.51594471 0.76212543]\n",
      " [0.36154494 0.05326853 0.95739998 ... 0.51594471 0.         0.47262964]\n",
      " [0.20497772 0.4613047  0.51542156 ... 0.76212543 0.47262964 0.        ]]\n",
      "(10, 10)\n"
     ]
    }
   ],
   "source": [
    "# \n",
    "Z=np.random.random((10,2))\n",
    "print(\"-------------\")\n",
    "print(Z)\n",
    "X,Y=np.atleast_2d(Z[:,0],Z[:,1])\n",
    "D=np.sqrt((X-X.T)**2+(Y-Y.T)**2)\n",
    "print(D)\n",
    "print(D.shape)"
   ]
  },
  {
   "cell_type": "code",
   "execution_count": 59,
   "metadata": {},
   "outputs": [
    {
     "name": "stdout",
     "output_type": "stream",
     "text": [
      "[0 1 2 ... 7 8 9]\n",
      "[0. 1. 2. ... 7. 8. 9.]\n",
      "------浮点数转为整数----------\n",
      "[0. 1. 2. ... 7. 8. 9.]\n",
      "[0 1 2 ... 7 8 9]\n"
     ]
    }
   ],
   "source": [
    "# 整数转为32浮点数\n",
    "Z=np.arange(10,dtype=np.int32)\n",
    "print(Z)\n",
    "Z=Z.astype(np.float32,copy=False)\n",
    "print(Z)\n",
    "print(\"------浮点数转为整数----------\")\n",
    "Z=np.arange(10,dtype=np.float32)\n",
    "print(Z)\n",
    "Z=Z.astype(np.int32,copy=False)\n",
    "print(Z)"
   ]
  },
  {
   "cell_type": "code",
   "execution_count": 60,
   "metadata": {},
   "outputs": [
    {
     "name": "stdout",
     "output_type": "stream",
     "text": [
      "[[0.36787944 0.44822088 0.51979489 ... 0.51979489 0.44822088 0.36787944]\n",
      " [0.44822088 0.54610814 0.63331324 ... 0.63331324 0.54610814 0.44822088]\n",
      " [0.51979489 0.63331324 0.73444367 ... 0.73444367 0.63331324 0.51979489]\n",
      " ...\n",
      " [0.51979489 0.63331324 0.73444367 ... 0.73444367 0.63331324 0.51979489]\n",
      " [0.44822088 0.54610814 0.63331324 ... 0.63331324 0.54610814 0.44822088]\n",
      " [0.36787944 0.44822088 0.51979489 ... 0.51979489 0.44822088 0.36787944]]\n"
     ]
    }
   ],
   "source": [
    "#生成一个二维的高斯分布数据\n",
    "X,Y=np.meshgrid(np.linspace(-1,1,10),np.linspace(-1,1,10))\n",
    "D=np.sqrt(X*X+Y*Y)\n",
    "sigma, mu=1.0,0.0\n",
    "G=np.exp(-((D-mu)**2/(2.0*sigma**2)))\n",
    "print(G)"
   ]
  },
  {
   "cell_type": "code",
   "execution_count": 61,
   "metadata": {},
   "outputs": [
    {
     "name": "stdout",
     "output_type": "stream",
     "text": [
      "[[0. 0. 0. ... 0. 0. 0.]\n",
      " [0. 0. 0. ... 0. 0. 0.]\n",
      " [0. 0. 0. ... 0. 0. 0.]\n",
      " ...\n",
      " [0. 0. 0. ... 0. 0. 0.]\n",
      " [0. 0. 0. ... 0. 0. 0.]\n",
      " [0. 0. 0. ... 0. 0. 0.]]\n"
     ]
    }
   ],
   "source": [
    "#随机放置p个元素在数组中\n",
    "n=10\n",
    "p=3\n",
    "Z=np.zeros((n,n))\n",
    "np.put(Z,np.random.choice(range(n*n),p,replace=False),1)\n",
    "print(Z)"
   ]
  },
  {
   "cell_type": "code",
   "execution_count": 62,
   "metadata": {},
   "outputs": [
    {
     "name": "stdout",
     "output_type": "stream",
     "text": [
      "[[0.91785359 0.65580886 0.29425485 ... 0.34925137 0.8200936  0.88328648]\n",
      " [0.19115874 0.80755336 0.24919609 ... 0.30028305 0.24564106 0.84966958]\n",
      " [0.32818447 0.78856797 0.70411578 ... 0.46143136 0.70631991 0.32293394]\n",
      " [0.63230097 0.56732887 0.73835082 ... 0.70219181 0.55158738 0.04372185]\n",
      " [0.66669316 0.58117049 0.47366298 ... 0.23265814 0.6597222  0.56296337]]\n",
      "[[ 0.33894429  0.07689955 -0.28465445 ... -0.22965793  0.2411843\n",
      "   0.30437718]\n",
      " [-0.34473974  0.27165487 -0.28670239 ... -0.23561543 -0.29025743\n",
      "   0.3137711 ]\n",
      " [-0.23262341  0.22776009  0.1433079  ... -0.09937651  0.14551203\n",
      "  -0.23787394]\n",
      " [ 0.09943158  0.03445948  0.20548143 ...  0.16932242  0.01871799\n",
      "  -0.48914754]\n",
      " [ 0.13145334  0.04593068 -0.06157684 ... -0.30258167  0.12448239\n",
      "   0.02772356]]\n",
      "[[ 0.37061541 -0.02427705 -0.19766126 ... -0.05991178  0.22342077\n",
      "   0.35077144]\n",
      " [-0.35607944  0.12746745 -0.24272001 ... -0.10888009 -0.35103177\n",
      "   0.31715454]\n",
      " [-0.21905372  0.10848206  0.21219968 ...  0.05226821  0.10964708\n",
      "  -0.20958111]\n",
      " [ 0.08506279 -0.11275704  0.24643472 ...  0.29302866 -0.04508545\n",
      "  -0.4887932 ]\n",
      " [ 0.11945497 -0.09891542 -0.01825313 ... -0.176505    0.06304937\n",
      "   0.03044833]]\n"
     ]
    }
   ],
   "source": [
    "X=np.random.rand(5,10)\n",
    "print(X)\n",
    "#减去X的每一行的均值\n",
    "Y=X-X.mean(axis=1,keepdims=True)\n",
    "print(Y)\n",
    "Y=X-X.mean(axis=0,keepdims=True)\n",
    "print(Y)"
   ]
  },
  {
   "cell_type": "code",
   "execution_count": 63,
   "metadata": {},
   "outputs": [
    {
     "name": "stdout",
     "output_type": "stream",
     "text": [
      "[[8 5 2]\n",
      " [4 2 1]\n",
      " [5 3 8]]\n",
      "[[4 2 1]\n",
      " [8 5 2]\n",
      " [5 3 8]]\n"
     ]
    }
   ],
   "source": [
    "Z=np.random.randint(0,10,(3,3))\n",
    "print(Z)\n",
    "print(Z[Z[:,2].argsort()])#按照所有行，第n列进行排序~~~!!!!很重要，省去了构建dict！！！"
   ]
  },
  {
   "cell_type": "code",
   "execution_count": 64,
   "metadata": {},
   "outputs": [
    {
     "name": "stdout",
     "output_type": "stream",
     "text": [
      "[[0 1 0 ... 0 1 0]\n",
      " [1 1 0 ... 1 0 0]\n",
      " [0 0 1 ... 1 0 1]]\n",
      "True\n",
      "False\n"
     ]
    }
   ],
   "source": [
    "Z=np.random.randint(0,2,(3,10))\n",
    "print(Z)\n",
    "print((~Z.any(axis=0)).any())#判断是否有空列\n",
    "print((~Z.any(axis=1)).any())#判断是否有空行"
   ]
  },
  {
   "cell_type": "code",
   "execution_count": 65,
   "metadata": {},
   "outputs": [
    {
     "name": "stdout",
     "output_type": "stream",
     "text": [
      "0.5687672385253999\n",
      "22.361449281427948  --->  22\n"
     ]
    }
   ],
   "source": [
    "Z=np.random.uniform(0,1,10)\n",
    "z=0.5\n",
    "m=Z.flat[np.abs(Z-z).argmin()]\n",
    "print(m)\n",
    "\n",
    "#给定一个标量，找到一个数组中与该标量值最接近的数字\n",
    "Z=np.arange(100)\n",
    "v=np.random.uniform(0,100)\n",
    "index=(np.abs(Z-v)).argmin()\n",
    "print(v,\" ---> \",Z[index])"
   ]
  },
  {
   "cell_type": "code",
   "execution_count": 66,
   "metadata": {},
   "outputs": [
    {
     "name": "stdout",
     "output_type": "stream",
     "text": [
      "[[0]\n",
      " [1]\n",
      " [2]] [[0 1 2]]\n",
      "<numpy.nditer object at 0x0000028BD5B07D50>\n",
      "0 0 8\n",
      "0 1 5\n",
      "0 2 2\n",
      "1 0 4\n",
      "1 1 2\n",
      "1 2 1\n",
      "2 0 5\n",
      "2 1 3\n",
      "2 2 8\n",
      "4\n",
      "[[0 1 2]\n",
      " [1 2 3]\n",
      " [2 3 4]]\n"
     ]
    }
   ],
   "source": [
    "# np.nditer做了什么不清楚........\n",
    "A=np.arange(3).reshape(3,1)\n",
    "B=np.arange(3).reshape(1,3)\n",
    "print(A,B)\n",
    "it=np.nditer([A,B,None])\n",
    "print(it)\n",
    "for x,y ,z in it:\n",
    "    print(x,y,z)\n",
    "    z[...]=x+y\n",
    "print(z)\n",
    "print(it.operands[2])"
   ]
  },
  {
   "cell_type": "code",
   "execution_count": 67,
   "metadata": {},
   "outputs": [
    {
     "name": "stdout",
     "output_type": "stream",
     "text": [
      "range_10\n"
     ]
    }
   ],
   "source": [
    "## 不理解....\n",
    "class NamedArray(np.ndarray):\n",
    "    def __new__(cls,array,name=\"no name\"):\n",
    "        obj=np.asarray(array).view(cls)\n",
    "        obj.name=name\n",
    "        \n",
    "        return obj\n",
    "    def __array__finalize__(self,obj):\n",
    "        if obj is None:\n",
    "            return\n",
    "        self.info=getattr(obj,\"name\",\"no name\")\n",
    "Z=NamedArray(np.arange(10),\"range_10\")\n",
    "print(Z.name)\n"
   ]
  },
  {
   "cell_type": "code",
   "execution_count": 68,
   "metadata": {},
   "outputs": [
    {
     "name": "stdout",
     "output_type": "stream",
     "text": [
      "[1. 1. 1. 1. 1.]\n",
      "[2 1 2 1 4 4]\n",
      "[1. 3. 3. 1. 3.]\n",
      "[0 2 2 0 2]\n"
     ]
    }
   ],
   "source": [
    "#64的题意没懂....\n",
    "Z=np.ones(5)\n",
    "print(Z)\n",
    "I=np.random.randint(0,len(Z),6)\n",
    "print(I)\n",
    "Z0=Z\n",
    "Z+=np.bincount(I,minlength=len(Z))\n",
    "print(Z)\n",
    "Z0=np.bincount(I,minlength=len(Z0))\n",
    "print(Z0)"
   ]
  },
  {
   "cell_type": "code",
   "execution_count": 69,
   "metadata": {},
   "outputs": [
    {
     "name": "stdout",
     "output_type": "stream",
     "text": [
      "0 -- 0.0\n",
      "1 -- 7.0\n",
      "2 -- 0.0\n",
      "3 -- 6.0\n",
      "4 -- 5.0\n",
      "5 -- 0.0\n",
      "6 -- 0.0\n",
      "7 -- 3.0\n"
     ]
    }
   ],
   "source": [
    "X=[1,2,3,4,5,6]#I为对应的索引\n",
    "I=[1,3,7,3,4,1]#索引列表,X和I的长度必须相等\n",
    "F=np.bincount(I,X)\n",
    "for index, one in enumerate(F):\n",
    "    print(index,\"--\",one)\n",
    "#print(F)"
   ]
  },
  {
   "cell_type": "code",
   "execution_count": 70,
   "metadata": {},
   "outputs": [
    {
     "name": "stdout",
     "output_type": "stream",
     "text": [
      "8\n"
     ]
    }
   ],
   "source": [
    "#66\n",
    "import numpy as np\n",
    "w,h=16,16\n",
    "I=np.random.randint(0,2,(h,w,3)).astype(np.ubyte)\n",
    "F=I[...,0]*(256*256)+I[...,1]*256+I[...,2]\n",
    "n=len(np.unique(F))\n",
    "print(n)"
   ]
  },
  {
   "cell_type": "code",
   "execution_count": 71,
   "metadata": {},
   "outputs": [
    {
     "name": "stdout",
     "output_type": "stream",
     "text": [
      "(16, 16, 3)\n",
      "[1 1 1]\n"
     ]
    }
   ],
   "source": [
    "print(I.shape)\n",
    "print(I[0][0])"
   ]
  },
  {
   "cell_type": "code",
   "execution_count": 72,
   "metadata": {},
   "outputs": [
    {
     "data": {
      "text/plain": [
       "(16, 16)"
      ]
     },
     "execution_count": 72,
     "metadata": {},
     "output_type": "execute_result"
    }
   ],
   "source": [
    "I[...,1].shape"
   ]
  },
  {
   "cell_type": "code",
   "execution_count": 73,
   "metadata": {},
   "outputs": [
    {
     "name": "stdout",
     "output_type": "stream",
     "text": [
      "(16, 16)\n",
      "[    0     1   256 ... 65537 65792 65793]\n"
     ]
    }
   ],
   "source": [
    "print(F.shape)\n",
    "print(np.unique(F))"
   ]
  },
  {
   "cell_type": "code",
   "execution_count": 74,
   "metadata": {},
   "outputs": [
    {
     "name": "stdout",
     "output_type": "stream",
     "text": [
      "[[65793     1 65792 ...     0 65536   256]\n",
      " [    1   256 65536 ...     1   256     1]\n",
      " [  257   256 65792 ... 65792     1     1]\n",
      " ...\n",
      " [    1 65536     1 ...   256     1   256]\n",
      " [  256 65792     1 ... 65792 65792 65536]\n",
      " [  256     1   257 ... 65536 65537 65792]]\n"
     ]
    }
   ],
   "source": [
    "print(F)"
   ]
  },
  {
   "cell_type": "code",
   "execution_count": 75,
   "metadata": {},
   "outputs": [
    {
     "name": "stdout",
     "output_type": "stream",
     "text": [
      "[1 2 3]\n"
     ]
    }
   ],
   "source": [
    "a=np.array([1,1,2,3])\n",
    "x=np.unique(a)\n",
    "print(x)"
   ]
  },
  {
   "cell_type": "code",
   "execution_count": 76,
   "metadata": {},
   "outputs": [
    {
     "name": "stdout",
     "output_type": "stream",
     "text": [
      "[[[[9 5 4 2]\n",
      "   [7 0 6 8]\n",
      "   [5 2 0 4]]\n",
      "\n",
      "  [[9 6 4 8]\n",
      "   [8 6 1 2]\n",
      "   [6 5 3 5]]\n",
      "\n",
      "  [[4 5 5 7]\n",
      "   [9 5 2 8]\n",
      "   [8 3 5 5]]\n",
      "\n",
      "  [[0 3 3 1]\n",
      "   [9 3 4 5]\n",
      "   [8 0 6 6]]]\n",
      "\n",
      "\n",
      " [[[1 8 8 3]\n",
      "   [4 6 7 1]\n",
      "   [1 7 5 5]]\n",
      "\n",
      "  [[8 7 8 7]\n",
      "   [0 7 5 9]\n",
      "   [7 6 9 7]]\n",
      "\n",
      "  [[5 0 3 5]\n",
      "   [0 2 4 9]\n",
      "   [0 3 2 0]]\n",
      "\n",
      "  [[4 5 1 3]\n",
      "   [8 6 4 8]\n",
      "   [2 5 7 2]]]\n",
      "\n",
      "\n",
      " [[[4 3 7 2]\n",
      "   [7 9 3 3]\n",
      "   [0 8 9 7]]\n",
      "\n",
      "  [[6 8 8 0]\n",
      "   [2 2 5 7]\n",
      "   [5 5 8 6]]\n",
      "\n",
      "  [[7 0 2 7]\n",
      "   [0 8 1 0]\n",
      "   [1 3 6 6]]\n",
      "\n",
      "  [[1 4 6 3]\n",
      "   [2 7 9 5]\n",
      "   [3 9 9 3]]]]\n",
      "[[52 63 66 48]\n",
      " [56 80 33 55]\n",
      " [62 62 41 61]]\n"
     ]
    }
   ],
   "source": [
    "#最后两轴的和\n",
    "A=np.random.randint(0,10,(3,4,3,4))\n",
    "print(A)\n",
    "sum_A=A.sum(axis=(-2,-1))\n",
    "print(sum_A)"
   ]
  },
  {
   "cell_type": "code",
   "execution_count": 77,
   "metadata": {},
   "outputs": [
    {
     "name": "stdout",
     "output_type": "stream",
     "text": [
      "[[1 5 9 5]\n",
      " [9 0 1 3]\n",
      " [6 1 4 8]]\n",
      "52\n"
     ]
    }
   ],
   "source": [
    "A=np.random.randint(0,10,(3,4))\n",
    "print(A)\n",
    "sum_A=A.sum(axis=(-2,-1))\n",
    "print(sum_A)"
   ]
  },
  {
   "cell_type": "code",
   "execution_count": 78,
   "metadata": {},
   "outputs": [
    {
     "name": "stdout",
     "output_type": "stream",
     "text": [
      "[0.22937352 0.31667252 0.5124711  ... 0.11311436 0.45062344 0.62560637]\n",
      "[0 7 3 ... 6 0 8]\n"
     ]
    }
   ],
   "source": [
    "#groupby的使用\n",
    "D=np.random.uniform(0,1,100)\n",
    "S=np.random.randint(0,10,100)\n",
    "print(D)\n",
    "print(S)\n",
    "import pandas as pd\n",
    "dd=pd.Series(D).groupby(S).mean()"
   ]
  },
  {
   "cell_type": "code",
   "execution_count": 79,
   "metadata": {},
   "outputs": [
    {
     "data": {
      "text/plain": [
       "0    0.574606\n",
       "1    0.352860\n",
       "2    0.505710\n",
       "3    0.592355\n",
       "4    0.574982\n",
       "5    0.304707\n",
       "6    0.505510\n",
       "7    0.586559\n",
       "8    0.551686\n",
       "9    0.416737\n",
       "dtype: float64"
      ]
     },
     "execution_count": 79,
     "metadata": {},
     "output_type": "execute_result"
    }
   ],
   "source": [
    "dd"
   ]
  },
  {
   "cell_type": "code",
   "execution_count": 80,
   "metadata": {},
   "outputs": [
    {
     "name": "stdout",
     "output_type": "stream",
     "text": [
      "0 -- 0.5746060074548273\n",
      "1 -- 0.35286034607102035\n",
      "2 -- 0.5057103117220084\n",
      "3 -- 0.5923548782147675\n",
      "4 -- 0.5749824142492594\n",
      "5 -- 0.304707401313969\n",
      "6 -- 0.5055095870921579\n",
      "7 -- 0.5865588642127635\n",
      "8 -- 0.551685751772755\n",
      "9 -- 0.4167371382503442\n"
     ]
    }
   ],
   "source": [
    "#groupby，使用bincount来实现\n",
    "F=np.bincount(S,D)\n",
    "for index, one in enumerate(F):\n",
    "    size_index=list(S).count(index)\n",
    "    print(index,\"--\",one/size_index)\n",
    "#print(F)"
   ]
  },
  {
   "cell_type": "code",
   "execution_count": 81,
   "metadata": {},
   "outputs": [
    {
     "name": "stdout",
     "output_type": "stream",
     "text": [
      "[0.57460601 0.35286035 0.50571031 ... 0.58655886 0.55168575 0.41673714]\n"
     ]
    }
   ],
   "source": [
    "F=np.bincount(S,D)\n",
    "D_counts=np.bincount(S)\n",
    "D_means=F/D_counts\n",
    "print(D_means)"
   ]
  },
  {
   "cell_type": "code",
   "execution_count": 82,
   "metadata": {},
   "outputs": [
    {
     "name": "stdout",
     "output_type": "stream",
     "text": [
      "[[1.44510326 2.23628344 2.25260989 1.69161705 1.30600127]\n",
      " [0.78576344 0.88560641 1.05785517 0.77118586 0.75281029]\n",
      " [1.49712763 1.63063914 1.9532977  1.31259572 1.0828972 ]\n",
      " [1.32331815 1.39375651 1.02445976 1.32602439 1.31861557]\n",
      " [0.90032863 0.95971769 1.20319256 0.72050507 0.6164548 ]]\n"
     ]
    },
    {
     "data": {
      "text/plain": [
       "array([1.44510326, 0.88560641, 1.9532977 , 1.32602439, 0.6164548 ])"
      ]
     },
     "execution_count": 82,
     "metadata": {},
     "output_type": "execute_result"
    }
   ],
   "source": [
    "#获取对角线\n",
    "A=np.random.uniform(0,1,(5,6))\n",
    "B=np.random.uniform(0,1,(6,5))\n",
    "x=np.dot(A,B)\n",
    "print(x)\n",
    "np.diag(np.dot(A,B))"
   ]
  },
  {
   "cell_type": "code",
   "execution_count": 83,
   "metadata": {},
   "outputs": [
    {
     "data": {
      "text/plain": [
       "array([1.44510326, 0.88560641, 1.9532977 , 1.32602439, 0.6164548 ])"
      ]
     },
     "execution_count": 83,
     "metadata": {},
     "output_type": "execute_result"
    }
   ],
   "source": [
    "#获取对角线，快的\n",
    "np.sum(A*B.T,axis=1)"
   ]
  },
  {
   "cell_type": "code",
   "execution_count": 84,
   "metadata": {},
   "outputs": [
    {
     "data": {
      "text/plain": [
       "array([1.44510326, 0.88560641, 1.9532977 , 1.32602439, 0.6164548 ])"
      ]
     },
     "execution_count": 84,
     "metadata": {},
     "output_type": "execute_result"
    }
   ],
   "source": [
    "#更快\n",
    "np.einsum(\"ij,ji->i\",A,B)"
   ]
  },
  {
   "cell_type": "code",
   "execution_count": 85,
   "metadata": {},
   "outputs": [
    {
     "name": "stdout",
     "output_type": "stream",
     "text": [
      "[0. 0. 0. ... 0. 0. 0.]\n",
      "[1. 0. 0. ... 0. 0. 5.]\n"
     ]
    }
   ],
   "source": [
    "Z=np.array([1,2,3,4,5])\n",
    "nz=3\n",
    "Z0 = np.zeros(len(Z) + (len(Z)-1)*(nz))#开辟原来数组的大小+每两个数中间多来的个数*（数字个数-1）\n",
    "print(Z0)\n",
    "Z0[::nz+1] = Z## (nz*Z的下标+1)\n",
    "print(Z0)"
   ]
  },
  {
   "cell_type": "code",
   "execution_count": 86,
   "metadata": {},
   "outputs": [
    {
     "name": "stdout",
     "output_type": "stream",
     "text": [
      "(5, 5, 3)\n",
      "(5, 5)\n",
      "[[[1. 1. 1.]\n",
      "  [1. 1. 1.]\n",
      "  [1. 1. 1.]\n",
      "  [1. 1. 1.]\n",
      "  [1. 1. 1.]]\n",
      "\n",
      " [[1. 1. 1.]\n",
      "  [1. 1. 1.]\n",
      "  [1. 1. 1.]\n",
      "  [1. 1. 1.]\n",
      "  [1. 1. 1.]]\n",
      "\n",
      " [[1. 1. 1.]\n",
      "  [1. 1. 1.]\n",
      "  [1. 1. 1.]\n",
      "  [1. 1. 1.]\n",
      "  [1. 1. 1.]]\n",
      "\n",
      " [[1. 1. 1.]\n",
      "  [1. 1. 1.]\n",
      "  [1. 1. 1.]\n",
      "  [1. 1. 1.]\n",
      "  [1. 1. 1.]]\n",
      "\n",
      " [[1. 1. 1.]\n",
      "  [1. 1. 1.]\n",
      "  [1. 1. 1.]\n",
      "  [1. 1. 1.]\n",
      "  [1. 1. 1.]]]\n",
      "[[2. 2. 2. 2. 2.]\n",
      " [2. 2. 2. 2. 2.]\n",
      " [2. 2. 2. 2. 2.]\n",
      " [2. 2. 2. 2. 2.]\n",
      " [2. 2. 2. 2. 2.]]\n"
     ]
    }
   ],
   "source": [
    "A=np.ones((5,5,3))\n",
    "B=2*np.ones((5,5))\n",
    "print(A.shape)\n",
    "print(B.shape)\n",
    "print(A)\n",
    "print(B)"
   ]
  },
  {
   "cell_type": "code",
   "execution_count": 87,
   "metadata": {},
   "outputs": [
    {
     "name": "stdout",
     "output_type": "stream",
     "text": [
      "[[[2. 2. 2.]\n",
      "  [2. 2. 2.]\n",
      "  [2. 2. 2.]\n",
      "  [2. 2. 2.]\n",
      "  [2. 2. 2.]]\n",
      "\n",
      " [[2. 2. 2.]\n",
      "  [2. 2. 2.]\n",
      "  [2. 2. 2.]\n",
      "  [2. 2. 2.]\n",
      "  [2. 2. 2.]]\n",
      "\n",
      " [[2. 2. 2.]\n",
      "  [2. 2. 2.]\n",
      "  [2. 2. 2.]\n",
      "  [2. 2. 2.]\n",
      "  [2. 2. 2.]]\n",
      "\n",
      " [[2. 2. 2.]\n",
      "  [2. 2. 2.]\n",
      "  [2. 2. 2.]\n",
      "  [2. 2. 2.]\n",
      "  [2. 2. 2.]]\n",
      "\n",
      " [[2. 2. 2.]\n",
      "  [2. 2. 2.]\n",
      "  [2. 2. 2.]\n",
      "  [2. 2. 2.]\n",
      "  [2. 2. 2.]]]\n"
     ]
    }
   ],
   "source": [
    "print(A*B[:,:,None])#最后以为赋值None"
   ]
  },
  {
   "cell_type": "code",
   "execution_count": 88,
   "metadata": {},
   "outputs": [
    {
     "name": "stdout",
     "output_type": "stream",
     "text": [
      "[[ 5  6  7  8  9]\n",
      " [ 0  1  2  3  4]\n",
      " [10 11 12 13 14]\n",
      " [15 16 17 18 19]\n",
      " [20 21 22 23 24]]\n"
     ]
    }
   ],
   "source": [
    "#任意两行互换\n",
    "A=np.arange(25).reshape(5,5)\n",
    "A[[0,1]]=A[[1,0]]\n",
    "print(A)"
   ]
  },
  {
   "cell_type": "code",
   "execution_count": 96,
   "metadata": {},
   "outputs": [
    {
     "name": "stdout",
     "output_type": "stream",
     "text": [
      "6\n",
      "[0 2 1 0 1 1]\n",
      "[1 1 2 4 5]\n"
     ]
    }
   ],
   "source": [
    "C=np.bincount([1,1,2,4,5])\n",
    "print(len(C))\n",
    "print(C)#0有0个，1有2个，2有1个，3有0个，4有1个，5有1个\n",
    "A=np.repeat(np.arange(len(C)),C)\n",
    "print(A)"
   ]
  },
  {
   "cell_type": "code",
   "execution_count": 104,
   "metadata": {},
   "outputs": [
    {
     "name": "stdout",
     "output_type": "stream",
     "text": [
      "[1 1 1 ... 0 1 1]\n",
      "[0 0 0 ... 1 0 0]\n",
      "[ 0  0  0 ... -1  0  0]\n"
     ]
    }
   ],
   "source": [
    "# bool值取反\n",
    "Z=np.random.randint(0,2,100)\n",
    "print(Z)\n",
    "np.logical_not(Z,out=Z)\n",
    "print(Z)\n",
    "np.negative(Z,out=Z)\n",
    "print(Z)"
   ]
  },
  {
   "cell_type": "code",
   "execution_count": 109,
   "metadata": {},
   "outputs": [
    {
     "name": "stdout",
     "output_type": "stream",
     "text": [
      "10\n"
     ]
    }
   ],
   "source": [
    "#计算矩阵的秩\n",
    "Z=np.random.uniform(0,1,(10,10))\n",
    "U,S,V=np.linalg.svd(Z)\n",
    "rank=np.sum(S>1e-10)\n",
    "print(rank)"
   ]
  },
  {
   "cell_type": "code",
   "execution_count": 110,
   "metadata": {},
   "outputs": [
    {
     "name": "stdout",
     "output_type": "stream",
     "text": [
      "2\n"
     ]
    }
   ],
   "source": [
    "#出现频率最高的数字\n",
    "Z=np.random.randint(0,10,50)\n",
    "print(np.bincount(Z).argmax())"
   ]
  },
  {
   "cell_type": "code",
   "execution_count": 112,
   "metadata": {},
   "outputs": [
    {
     "ename": "NameError",
     "evalue": "name 'stride_tricks' is not defined",
     "output_type": "error",
     "traceback": [
      "\u001b[1;31m---------------------------------------------------------------------------\u001b[0m",
      "\u001b[1;31mNameError\u001b[0m                                 Traceback (most recent call last)",
      "\u001b[1;32m<ipython-input-112-602154dfe655>\u001b[0m in \u001b[0;36m<module>\u001b[1;34m()\u001b[0m\n\u001b[0;32m      3\u001b[0m \u001b[0mi\u001b[0m\u001b[1;33m=\u001b[0m\u001b[1;36m1\u001b[0m\u001b[1;33m+\u001b[0m\u001b[1;33m(\u001b[0m\u001b[0mZ\u001b[0m\u001b[1;33m.\u001b[0m\u001b[0mshape\u001b[0m\u001b[1;33m[\u001b[0m\u001b[1;36m0\u001b[0m\u001b[1;33m]\u001b[0m\u001b[1;33m-\u001b[0m\u001b[1;36m3\u001b[0m\u001b[1;33m)\u001b[0m\u001b[1;33m\u001b[0m\u001b[0m\n\u001b[0;32m      4\u001b[0m \u001b[0mj\u001b[0m\u001b[1;33m=\u001b[0m\u001b[1;36m1\u001b[0m\u001b[1;33m+\u001b[0m\u001b[1;33m(\u001b[0m\u001b[0mZ\u001b[0m\u001b[1;33m.\u001b[0m\u001b[0mshape\u001b[0m\u001b[1;33m[\u001b[0m\u001b[1;36m1\u001b[0m\u001b[1;33m]\u001b[0m\u001b[1;33m-\u001b[0m\u001b[1;36m3\u001b[0m\u001b[1;33m)\u001b[0m\u001b[1;33m\u001b[0m\u001b[0m\n\u001b[1;32m----> 5\u001b[1;33m \u001b[0mC\u001b[0m\u001b[1;33m=\u001b[0m\u001b[0mstride_tricks\u001b[0m\u001b[1;33m.\u001b[0m\u001b[0mas_strided\u001b[0m\u001b[1;33m(\u001b[0m\u001b[0mZ\u001b[0m\u001b[1;33m,\u001b[0m\u001b[0mshape\u001b[0m\u001b[1;33m=\u001b[0m\u001b[1;33m(\u001b[0m\u001b[0mi\u001b[0m\u001b[1;33m,\u001b[0m\u001b[0mj\u001b[0m\u001b[1;33m,\u001b[0m\u001b[0mn\u001b[0m\u001b[1;33m,\u001b[0m\u001b[0mn\u001b[0m\u001b[1;33m)\u001b[0m\u001b[1;33m,\u001b[0m\u001b[0mstrides\u001b[0m\u001b[1;33m=\u001b[0m\u001b[0mZ\u001b[0m\u001b[1;33m.\u001b[0m\u001b[0mstrides\u001b[0m\u001b[1;33m+\u001b[0m\u001b[0mZ\u001b[0m\u001b[1;33m.\u001b[0m\u001b[0mstrides\u001b[0m\u001b[1;33m)\u001b[0m\u001b[1;33m\u001b[0m\u001b[0m\n\u001b[0m\u001b[0;32m      6\u001b[0m \u001b[0mprint\u001b[0m\u001b[1;33m(\u001b[0m\u001b[0mC\u001b[0m\u001b[1;33m)\u001b[0m\u001b[1;33m\u001b[0m\u001b[0m\n",
      "\u001b[1;31mNameError\u001b[0m: name 'stride_tricks' is not defined"
     ]
    }
   ],
   "source": [
    "Z=np.random.randint(0,5,(10,10))\n",
    "n=3\n",
    "i=1+(Z.shape[0]-3)\n",
    "j=1+(Z.shape[1]-3)\n",
    "C=stride_tricks.as_strided(Z,shape=(i,j,n,n),strides=Z.strides+Z.strides)\n",
    "print(C)"
   ]
  },
  {
   "cell_type": "code",
   "execution_count": 113,
   "metadata": {},
   "outputs": [
    {
     "name": "stdout",
     "output_type": "stream",
     "text": [
      "[[ 8 13 13  9  8]\n",
      " [13  0 13  8  9]\n",
      " [13 13  7 42  8]\n",
      " [ 9  8 42  4 10]\n",
      " [ 8  9  8 10  8]]\n"
     ]
    }
   ],
   "source": [
    "class Symetric(np.ndarray):\n",
    "     def __setitem__(self, index, value):\n",
    "        i,j = index\n",
    "        super(Symetric, self).__setitem__((i,j), value)\n",
    "        super(Symetric, self).__setitem__((j,i), value)\n",
    "\n",
    "def symetric(Z):\n",
    "     return np.asarray(Z + Z.T - np.diag(Z.diagonal())).view(Symetric)\n",
    "\n",
    "S = symetric(np.random.randint(0,10,(5,5)))\n",
    "S[2,3] = 42\n",
    "print (S)"
   ]
  },
  {
   "cell_type": "code",
   "execution_count": 118,
   "metadata": {},
   "outputs": [
    {
     "name": "stdout",
     "output_type": "stream",
     "text": [
      "[804 296 212 ... 916 102 162]\n",
      "[995 996 997 998 999]\n"
     ]
    }
   ],
   "source": [
    "#给一个数组，求第n个最大值\n",
    "Z=np.arange(1000)\n",
    "np.random.shuffle(Z)\n",
    "print(Z)\n",
    "n=5\n",
    "print(Z[np.argsort(Z)[-n:]])"
   ]
  },
  {
   "cell_type": "code",
   "execution_count": 119,
   "metadata": {},
   "outputs": [
    {
     "name": "stdout",
     "output_type": "stream",
     "text": [
      "[998 997 999 996 995]\n"
     ]
    }
   ],
   "source": [
    "print(Z[np.argpartition(-Z,n)[:n]])"
   ]
  },
  {
   "cell_type": "code",
   "execution_count": 120,
   "metadata": {},
   "outputs": [],
   "source": [
    "x=np.random.rand()"
   ]
  },
  {
   "cell_type": "code",
   "execution_count": 122,
   "metadata": {},
   "outputs": [
    {
     "name": "stdout",
     "output_type": "stream",
     "text": [
      "0.27870233134584654\n"
     ]
    },
    {
     "data": {
      "text/plain": [
       "0.021648200660248064"
      ]
     },
     "execution_count": 122,
     "metadata": {},
     "output_type": "execute_result"
    }
   ],
   "source": [
    "print(x)\n",
    "np.power(x,3)"
   ]
  },
  {
   "cell_type": "code",
   "execution_count": 168,
   "metadata": {},
   "outputs": [],
   "source": [
    "A=np.random.randint(0,5,(2,3))\n",
    "B=np.random.randint(0,5,(2,2))\n",
    "A=np.array([[2, 0, 3],\n",
    "            [3, 4, 2]])\n",
    "B=np.array([[1, 4],\n",
    "            [2, 4]])"
   ]
  },
  {
   "cell_type": "code",
   "execution_count": 169,
   "metadata": {},
   "outputs": [
    {
     "name": "stdout",
     "output_type": "stream",
     "text": [
      "[1]\n"
     ]
    }
   ],
   "source": [
    "### 不懂啊.........但是很重要...求另外一个矩阵中，每行是否出现了被比较矩阵的行\n",
    "C=(A[...,np.newaxis,np.newaxis]==B)\n",
    "rows=np.where(C.any((3,1)).all(1))[0]\n",
    "print(rows)"
   ]
  },
  {
   "cell_type": "code",
   "execution_count": 165,
   "metadata": {},
   "outputs": [
    {
     "name": "stdout",
     "output_type": "stream",
     "text": [
      "[[False  True]\n",
      " [ True  True]]\n",
      "------\n",
      "[False  True]\n",
      "[False  True]\n"
     ]
    }
   ],
   "source": [
    "print(C.any((3,1)))\n",
    "print(\"------\")\n",
    "\n",
    "print(C.any((3,1)).all(0))\n",
    "print(C.any((3,1)).all(1))"
   ]
  },
  {
   "cell_type": "code",
   "execution_count": 166,
   "metadata": {},
   "outputs": [
    {
     "name": "stdout",
     "output_type": "stream",
     "text": [
      "[[2 0 3]\n",
      " [3 4 2]]\n",
      "2\n",
      "0\n",
      "3\n",
      "2\n",
      "2\n",
      "[[1 4]\n",
      " [2 4]]\n"
     ]
    }
   ],
   "source": [
    "print(A)\n",
    "print(A[...,0,0])\n",
    "print(A[...,0,1])\n",
    "print(A[...,0,2])\n",
    "print(A[...,1,2])\n",
    "print(A[1,2])\n",
    "print(B)"
   ]
  },
  {
   "cell_type": "code",
   "execution_count": 167,
   "metadata": {},
   "outputs": [
    {
     "name": "stdout",
     "output_type": "stream",
     "text": [
      "(2, 3, 2, 2)\n",
      "[[[[False False]\n",
      "   [ True False]]\n",
      "\n",
      "  [[False False]\n",
      "   [False False]]\n",
      "\n",
      "  [[False False]\n",
      "   [False False]]]\n",
      "\n",
      "\n",
      " [[[False False]\n",
      "   [False False]]\n",
      "\n",
      "  [[False  True]\n",
      "   [False  True]]\n",
      "\n",
      "  [[False False]\n",
      "   [ True False]]]]\n"
     ]
    }
   ],
   "source": [
    "print(C.shape)\n",
    "print(C)"
   ]
  },
  {
   "cell_type": "code",
   "execution_count": 173,
   "metadata": {},
   "outputs": [
    {
     "name": "stdout",
     "output_type": "stream",
     "text": [
      "[[0 1 1]\n",
      " [0 0 1]\n",
      " [0 1 1]\n",
      " [1 1 1]\n",
      " [1 1 0]\n",
      " [0 1 0]]\n",
      "..........\n",
      "[[0 0 1]\n",
      " [0 1 0]\n",
      " [0 1 1]\n",
      " [1 1 0]\n",
      " [1 1 1]]\n"
     ]
    }
   ],
   "source": [
    "#提取出唯一的行，可以理解为去重。\n",
    "Z = np.random.randint(0,2,(6,3))\n",
    "print(Z)\n",
    "print(\"..........\")\n",
    "T = np.ascontiguousarray(Z).view(np.dtype((np.void, Z.dtype.itemsize * Z.shape[1])))\n",
    "_, idx = np.unique(T, return_index=True)\n",
    "uZ = Z[idx]\n",
    "print (uZ)"
   ]
  },
  {
   "cell_type": "code",
   "execution_count": 180,
   "metadata": {},
   "outputs": [
    {
     "name": "stdout",
     "output_type": "stream",
     "text": [
      "[[68 31 73 ... 34 25 66]\n",
      " [29 98 66 ... 88  7 21]\n",
      " [29 38 81 ... 97 92 73]\n",
      " ...\n",
      " [10 45 78 ... 90 42  9]\n",
      " [ 2 73 68 ... 60 72 97]\n",
      " [40 47 21 ... 26 24 25]]\n",
      "(1000, 100)\n",
      "[49.76 51.08 50.18 ... 50.33 45.87 51.07]\n",
      "(1000,)\n",
      "[43.899   55.55025]\n"
     ]
    }
   ],
   "source": [
    "X = np.random.randn(100) # random 1D array\n",
    "X=np.arange(100)\n",
    "N = 1000 # number of bootstrap samples\n",
    "idx = np.random.randint(0, X.size, (N, X.size))\n",
    "print(idx)\n",
    "print(idx.shape)\n",
    "means = X[idx].mean(axis=1)  #给了1000个组数字，每组为随机从X中抽取100个，求得每组数字的均值\n",
    "print(means)\n",
    "print(means.shape)\n",
    "confint = np.percentile(means, [2.5, 97.5])#求一组数据置信度为95的置信区间\n",
    "print (confint)"
   ]
  },
  {
   "cell_type": "code",
   "execution_count": 181,
   "metadata": {},
   "outputs": [],
   "source": [
    "sen=\"如果我们忽略二分类问题中y的取值是一个离散的取值（0或1），我们继续使用线性回归来预测y的取值。这样做会导致y的取值并不为0或1。逻辑回归使用一个函数来归一化y值，使y的取值在区间(0,1)内，这个函数称为Logistic函数(logistic function)，也称为Sigmoid函数(sigmoid function)\"\n",
    "sen_list=[one for one in sen]"
   ]
  },
  {
   "cell_type": "code",
   "execution_count": 198,
   "metadata": {},
   "outputs": [
    {
     "name": "stdout",
     "output_type": "stream",
     "text": [
      "['如', '果', '我', '们', '忽', '略', '二', '分', '类', '问', '题', '中', 'y', '的', '取', '值', '是', '一', '个', '离', '散', '的', '取', '值', '（', '0', '或', '1', '）', '，', '我', '们', '继', '续', '使', '用', '线', '性', '回', '归', '来', '预', '测', 'y', '的', '取', '值', '。', '这', '样', '做', '会', '导', '致', 'y', '的', '取', '值', '并', '不', '为', '0', '或', '1', '。', '逻', '辑', '回', '归', '使', '用', '一', '个', '函', '数', '来', '归', '一', '化', 'y', '值', '，', '使', 'y', '的', '取', '值', '在', '区', '间', '(', '0', ',', '1', ')', '内', '，', '这', '个', '函', '数', '称', '为', 'L', 'o', 'g', 'i', 's', 't', 'i', 'c', '函', '数', '(', 'l', 'o', 'g', 'i', 's', 't', 'i', 'c', ' ', 'f', 'u', 'n', 'c', 't', 'i', 'o', 'n', ')', '，', '也', '称', '为', 'S', 'i', 'g', 'm', 'o', 'i', 'd', '函', '数', '(', 's', 'i', 'g', 'm', 'o', 'i', 'd', ' ', 'f', 'u', 'n', 'c', 't', 'i', 'o', 'n', ')']\n",
      "[1, 1, 1, 1, 1, 1, 1, 1, 1, 1, 1, 1, 1, 1, 1, 1, 1, 1, 1, 1, 1, 1, 1, 1, 1, 1, 1, 1, 1, 1, 1, 1, 1, 1, 1, 1, 1, 1, 1, 1, 1, 1, 1, 1, 1, 1, 1, 1, 1, 1, 1, 1, 1, 1, 1, 1, 1, 1, 1, 1, 1, 1, 1, 1, 1, 1, 1, 1, 1, 1, 1, 1, 1, 1, 1, 1, 1, 1, 1, 1, 1, 1, 1, 1, 1, 1, 1, 1, 1, 1, 1, 1, 1, 1, 1, 1, 1, 1, 1, 1, 1, 1, 1, 1, 1, 1, 1, 1, 1, 1, 1, 1, 1, 1, 1, 1, 1, 1, 1, 1, 1, 1, 1, 1, 1, 1, 1, 1, 1, 1, 1, 1, 1, 1, 1, 1, 1, 1, 1, 1, 1, 1, 1, 1, 1, 1, 1, 1, 1, 1, 1, 1, 1, 1, 1, 1, 1, 1, 1, 1, 1, 1, 1]\n",
      "0 --  如 -- 1.0\n",
      "1 --  果 -- 1.0\n",
      "2 --  我 -- 2.0\n",
      "3 --  们 -- 2.0\n",
      "4 --  忽 -- 1.0\n",
      "5 --  略 -- 1.0\n",
      "6 --  二 -- 1.0\n",
      "7 --  分 -- 1.0\n",
      "8 --  类 -- 1.0\n",
      "9 --  问 -- 1.0\n",
      "10 --  题 -- 1.0\n",
      "11 --  中 -- 1.0\n",
      "12 --  y -- 5.0\n",
      "13 --  的 -- 5.0\n",
      "14 --  取 -- 5.0\n",
      "15 --  值 -- 6.0\n",
      "16 --  是 -- 1.0\n",
      "17 --  一 -- 3.0\n",
      "18 --  个 -- 3.0\n",
      "19 --  离 -- 1.0\n",
      "20 --  散 -- 1.0\n",
      "24 --  （ -- 1.0\n",
      "25 --  0 -- 3.0\n",
      "26 --  或 -- 2.0\n",
      "27 --  1 -- 3.0\n",
      "28 --  ） -- 1.0\n",
      "29 --  ， -- 4.0\n",
      "32 --  继 -- 1.0\n",
      "33 --  续 -- 1.0\n",
      "34 --  使 -- 3.0\n",
      "35 --  用 -- 2.0\n",
      "36 --  线 -- 1.0\n",
      "37 --  性 -- 1.0\n",
      "38 --  回 -- 2.0\n",
      "39 --  归 -- 3.0\n",
      "40 --  来 -- 2.0\n",
      "41 --  预 -- 1.0\n",
      "42 --  测 -- 1.0\n",
      "47 --  。 -- 2.0\n",
      "48 --  这 -- 2.0\n",
      "49 --  样 -- 1.0\n",
      "50 --  做 -- 1.0\n",
      "51 --  会 -- 1.0\n",
      "52 --  导 -- 1.0\n",
      "53 --  致 -- 1.0\n",
      "58 --  并 -- 1.0\n",
      "59 --  不 -- 1.0\n",
      "60 --  为 -- 3.0\n",
      "65 --  逻 -- 1.0\n",
      "66 --  辑 -- 1.0\n",
      "73 --  函 -- 4.0\n",
      "74 --  数 -- 4.0\n",
      "78 --  化 -- 1.0\n",
      "87 --  在 -- 1.0\n",
      "88 --  区 -- 1.0\n",
      "89 --  间 -- 1.0\n",
      "90 --  ( -- 3.0\n",
      "92 --  , -- 1.0\n",
      "94 --  ) -- 3.0\n",
      "95 --  内 -- 1.0\n",
      "101 --  称 -- 2.0\n",
      "103 --  L -- 1.0\n",
      "104 --  o -- 6.0\n",
      "105 --  g -- 4.0\n",
      "106 --  i -- 10.0\n",
      "107 --  s -- 3.0\n",
      "108 --  t -- 4.0\n",
      "110 --  c -- 4.0\n",
      "114 --  l -- 1.0\n",
      "122 --    -- 2.0\n",
      "123 --  f -- 2.0\n",
      "124 --  u -- 2.0\n",
      "125 --  n -- 4.0\n",
      "133 --  也 -- 1.0\n",
      "136 --  S -- 1.0\n",
      "139 --  m -- 2.0\n",
      "142 --  d -- 2.0\n"
     ]
    }
   ],
   "source": [
    "#一个文档中，某一个字出现的次数。\n",
    "print(sen_list)\n",
    "X=len(sen_list)*[1]\n",
    "print(X)\n",
    "X_dict=dict()\n",
    "for i,one in enumerate(sen_list):\n",
    "    if one in X_dict:\n",
    "        pass\n",
    "    else:\n",
    "        X_dict[one]=i\n",
    "sen_list_number=[X_dict[one]for one in sen_list] \n",
    "X_dict_reverse={v:k for k,v in X_dict.items() }\n",
    "F=np.bincount(sen_list_number,X)\n",
    "for index,one in enumerate(F):\n",
    "    if one==0.0:\n",
    "        continue\n",
    "    print(index,\"-- \",X_dict_reverse[index],\"--\",one)"
   ]
  },
  {
   "cell_type": "code",
   "execution_count": 195,
   "metadata": {},
   "outputs": [
    {
     "name": "stdout",
     "output_type": "stream",
     "text": [
      "0 -- 0.0\n",
      "1 -- 2.0\n",
      "2 -- 0.0\n",
      "3 -- 2.0\n",
      "4 -- 1.0\n",
      "5 -- 0.0\n",
      "6 -- 0.0\n",
      "7 -- 1.0\n"
     ]
    }
   ],
   "source": [
    "X=[1,1,1,1,1,1]#I为对应的索引\n",
    "I=[1,3,7,3,4,1]#索引列表,X和I的长度必须相等\n",
    "F=np.bincount(I,X)\n",
    "for index, one in enumerate(F):\n",
    "    print(index,\"--\",one)\n",
    "#print(F)"
   ]
  },
  {
   "cell_type": "code",
   "execution_count": 197,
   "metadata": {},
   "outputs": [
    {
     "data": {
      "text/plain": [
       "{' ': 122,\n",
       " '(': 90,\n",
       " ')': 94,\n",
       " ',': 92,\n",
       " '0': 25,\n",
       " '1': 27,\n",
       " 'L': 103,\n",
       " 'S': 136,\n",
       " 'c': 110,\n",
       " 'd': 142,\n",
       " 'f': 123,\n",
       " 'g': 105,\n",
       " 'i': 106,\n",
       " 'l': 114,\n",
       " 'm': 139,\n",
       " 'n': 125,\n",
       " 'o': 104,\n",
       " 's': 107,\n",
       " 't': 108,\n",
       " 'u': 124,\n",
       " 'y': 12,\n",
       " '。': 47,\n",
       " '一': 17,\n",
       " '不': 59,\n",
       " '个': 18,\n",
       " '中': 11,\n",
       " '为': 60,\n",
       " '也': 133,\n",
       " '二': 6,\n",
       " '们': 3,\n",
       " '会': 51,\n",
       " '使': 34,\n",
       " '值': 15,\n",
       " '做': 50,\n",
       " '内': 95,\n",
       " '函': 73,\n",
       " '分': 7,\n",
       " '化': 78,\n",
       " '区': 88,\n",
       " '取': 14,\n",
       " '回': 38,\n",
       " '在': 87,\n",
       " '如': 0,\n",
       " '导': 52,\n",
       " '并': 58,\n",
       " '归': 39,\n",
       " '忽': 4,\n",
       " '性': 37,\n",
       " '我': 2,\n",
       " '或': 26,\n",
       " '散': 20,\n",
       " '数': 74,\n",
       " '是': 16,\n",
       " '来': 40,\n",
       " '果': 1,\n",
       " '样': 49,\n",
       " '测': 42,\n",
       " '用': 35,\n",
       " '略': 5,\n",
       " '的': 13,\n",
       " '离': 19,\n",
       " '称': 101,\n",
       " '类': 8,\n",
       " '线': 36,\n",
       " '继': 32,\n",
       " '续': 33,\n",
       " '致': 53,\n",
       " '辑': 66,\n",
       " '这': 48,\n",
       " '逻': 65,\n",
       " '问': 9,\n",
       " '间': 89,\n",
       " '预': 41,\n",
       " '题': 10,\n",
       " '（': 24,\n",
       " '）': 28,\n",
       " '，': 29}"
      ]
     },
     "execution_count": 197,
     "metadata": {},
     "output_type": "execute_result"
    }
   ],
   "source": [
    "X_dict\n",
    "#X_dict_reverse"
   ]
  },
  {
   "cell_type": "code",
   "execution_count": null,
   "metadata": {},
   "outputs": [],
   "source": []
  }
 ],
 "metadata": {
  "kernelspec": {
   "display_name": "Python 3",
   "language": "python",
   "name": "python3"
  },
  "language_info": {
   "codemirror_mode": {
    "name": "ipython",
    "version": 3
   },
   "file_extension": ".py",
   "mimetype": "text/x-python",
   "name": "python",
   "nbconvert_exporter": "python",
   "pygments_lexer": "ipython3",
   "version": "3.6.4"
  }
 },
 "nbformat": 4,
 "nbformat_minor": 2
}
