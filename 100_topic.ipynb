{
 "cells": [
  {
   "cell_type": "code",
   "execution_count": 25,
   "metadata": {},
   "outputs": [],
   "source": [
    "import numpy as np"
   ]
  },
  {
   "cell_type": "code",
   "execution_count": 26,
   "metadata": {},
   "outputs": [
    {
     "name": "stdout",
     "output_type": "stream",
     "text": [
      "1.15.3\n",
      "blas_mkl_info:\n",
      "  NOT AVAILABLE\n",
      "blis_info:\n",
      "  NOT AVAILABLE\n",
      "openblas_info:\n",
      "    library_dirs = ['C:\\\\projects\\\\numpy-wheels\\\\numpy\\\\build\\\\openblas']\n",
      "    libraries = ['openblas']\n",
      "    language = f77\n",
      "    define_macros = [('HAVE_CBLAS', None)]\n",
      "blas_opt_info:\n",
      "    library_dirs = ['C:\\\\projects\\\\numpy-wheels\\\\numpy\\\\build\\\\openblas']\n",
      "    libraries = ['openblas']\n",
      "    language = f77\n",
      "    define_macros = [('HAVE_CBLAS', None)]\n",
      "lapack_mkl_info:\n",
      "  NOT AVAILABLE\n",
      "openblas_lapack_info:\n",
      "    library_dirs = ['C:\\\\projects\\\\numpy-wheels\\\\numpy\\\\build\\\\openblas']\n",
      "    libraries = ['openblas']\n",
      "    language = f77\n",
      "    define_macros = [('HAVE_CBLAS', None)]\n",
      "lapack_opt_info:\n",
      "    library_dirs = ['C:\\\\projects\\\\numpy-wheels\\\\numpy\\\\build\\\\openblas']\n",
      "    libraries = ['openblas']\n",
      "    language = f77\n",
      "    define_macros = [('HAVE_CBLAS', None)]\n"
     ]
    }
   ],
   "source": [
    "print(np.__version__)\n",
    "np.show_config()"
   ]
  },
  {
   "cell_type": "code",
   "execution_count": 27,
   "metadata": {},
   "outputs": [
    {
     "name": "stdout",
     "output_type": "stream",
     "text": [
      "[0. 0. 0. 0. 0. 0. 0. 0. 0. 0.]\n"
     ]
    }
   ],
   "source": [
    "Z=np.zeros(10)\n",
    "print(Z)"
   ]
  },
  {
   "cell_type": "code",
   "execution_count": 28,
   "metadata": {},
   "outputs": [
    {
     "name": "stdout",
     "output_type": "stream",
     "text": [
      "80 bytes\n",
      "1000 8\n",
      "8000 bytes\n"
     ]
    }
   ],
   "source": [
    "print(\"%d bytes\"%(Z.size*Z.itemsize))#内存大小\n",
    "Z1=np.zeros(1000)\n",
    "print(Z1.size,Z1.itemsize)\n",
    "print(\"%d bytes\"%(Z1.size*Z1.itemsize))#内存大小"
   ]
  },
  {
   "cell_type": "code",
   "execution_count": 29,
   "metadata": {},
   "outputs": [
    {
     "name": "stdout",
     "output_type": "stream",
     "text": [
      "add(x1, x2, /, out=None, *, where=True, casting='same_kind', order='K', dtype=None, subok=True[, signature, extobj])\n",
      "\n",
      "Add arguments element-wise.\n",
      "\n",
      "Parameters\n",
      "----------\n",
      "x1, x2 : array_like\n",
      "    The arrays to be added.  If ``x1.shape != x2.shape``, they must be\n",
      "    broadcastable to a common shape (which may be the shape of one or\n",
      "    the other).\n",
      "out : ndarray, None, or tuple of ndarray and None, optional\n",
      "    A location into which the result is stored. If provided, it must have\n",
      "    a shape that the inputs broadcast to. If not provided or `None`,\n",
      "    a freshly-allocated array is returned. A tuple (possible only as a\n",
      "    keyword argument) must have length equal to the number of outputs.\n",
      "where : array_like, optional\n",
      "    Values of True indicate to calculate the ufunc at that position, values\n",
      "    of False indicate to leave the value in the output alone.\n",
      "**kwargs\n",
      "    For other keyword-only arguments, see the\n",
      "    :ref:`ufunc docs <ufuncs.kwargs>`.\n",
      "\n",
      "Returns\n",
      "-------\n",
      "add : ndarray or scalar\n",
      "    The sum of `x1` and `x2`, element-wise.\n",
      "    This is a scalar if both `x1` and `x2` are scalars.\n",
      "\n",
      "Notes\n",
      "-----\n",
      "Equivalent to `x1` + `x2` in terms of array broadcasting.\n",
      "\n",
      "Examples\n",
      "--------\n",
      ">>> np.add(1.0, 4.0)\n",
      "5.0\n",
      ">>> x1 = np.arange(9.0).reshape((3, 3))\n",
      ">>> x2 = np.arange(3.0)\n",
      ">>> np.add(x1, x2)\n",
      "array([[  0.,   2.,   4.],\n",
      "       [  3.,   5.,   7.],\n",
      "       [  6.,   8.,  10.]])\n"
     ]
    }
   ],
   "source": [
    "np.info(np.add)"
   ]
  },
  {
   "cell_type": "code",
   "execution_count": 30,
   "metadata": {},
   "outputs": [
    {
     "name": "stdout",
     "output_type": "stream",
     "text": [
      "[0. 0. 0. 0. 1. 0. 0. 0. 0. 0.]\n"
     ]
    }
   ],
   "source": [
    "#单个赋值\n",
    "Z=np.zeros(10)\n",
    "Z[4]=1\n",
    "print(Z)"
   ]
  },
  {
   "cell_type": "code",
   "execution_count": 31,
   "metadata": {},
   "outputs": [
    {
     "name": "stdout",
     "output_type": "stream",
     "text": [
      "[10 11 12 13 14 15 16 17 18 19 20 21 22 23 24 25 26 27 28 29 30 31 32 33\n",
      " 34 35 36 37 38 39]\n"
     ]
    }
   ],
   "source": [
    "#范围值\n",
    "Z=np.arange(10,40)\n",
    "print(Z)"
   ]
  },
  {
   "cell_type": "code",
   "execution_count": 32,
   "metadata": {},
   "outputs": [
    {
     "name": "stdout",
     "output_type": "stream",
     "text": [
      "[39 38 37 36 35 34 33 32 31 30 29 28 27 26 25 24 23 22 21 20 19 18 17 16\n",
      " 15 14 13 12 11 10]\n"
     ]
    }
   ],
   "source": [
    "Z1=np.arange(40)\n",
    "Z2=Z[::-1]#逆转list\n",
    "print(Z2)"
   ]
  },
  {
   "cell_type": "code",
   "execution_count": 33,
   "metadata": {},
   "outputs": [
    {
     "name": "stdout",
     "output_type": "stream",
     "text": [
      "[[0 1 2]\n",
      " [3 4 5]\n",
      " [6 7 8]]\n"
     ]
    }
   ],
   "source": [
    "Z=np.arange(9).reshape(3,3)\n",
    "print(Z)"
   ]
  },
  {
   "cell_type": "code",
   "execution_count": 34,
   "metadata": {},
   "outputs": [
    {
     "name": "stdout",
     "output_type": "stream",
     "text": [
      "(array([0, 1, 4], dtype=int64),)\n"
     ]
    }
   ],
   "source": [
    "#找到非零索引\n",
    "nz=np.nonzero([1,2,0,0,4,0])\n",
    "print(nz)"
   ]
  },
  {
   "cell_type": "code",
   "execution_count": 35,
   "metadata": {},
   "outputs": [
    {
     "name": "stdout",
     "output_type": "stream",
     "text": [
      "[[1. 0. 0.]\n",
      " [0. 1. 0.]\n",
      " [0. 0. 1.]]\n"
     ]
    }
   ],
   "source": [
    "Z=np.eye(3)\n",
    "print(Z)"
   ]
  },
  {
   "cell_type": "code",
   "execution_count": 36,
   "metadata": {},
   "outputs": [
    {
     "name": "stdout",
     "output_type": "stream",
     "text": [
      "[[[0.07415421 0.07061232 0.14972396]\n",
      "  [0.13386399 0.1848654  0.69281659]\n",
      "  [0.19483162 0.13314871 0.05175525]]\n",
      "\n",
      " [[0.52523617 0.46220296 0.55403293]\n",
      "  [0.46492707 0.92651927 0.66248938]\n",
      "  [0.16012742 0.77296751 0.96066791]]\n",
      "\n",
      " [[0.66730183 0.67256441 0.196609  ]\n",
      "  [0.53953961 0.07048836 0.74935467]\n",
      "  [0.25107378 0.76409677 0.25698395]]]\n"
     ]
    }
   ],
   "source": [
    "Z=np.random.random((3,3,3))\n",
    "print(Z)"
   ]
  },
  {
   "cell_type": "code",
   "execution_count": 37,
   "metadata": {},
   "outputs": [
    {
     "name": "stdout",
     "output_type": "stream",
     "text": [
      "0.016326776782392693 0.9935000651819416\n"
     ]
    }
   ],
   "source": [
    "Z=np.random.random((10,10))\n",
    "Zmin,Zmax=Z.min(),Z.max()\n",
    "print(Zmin,Zmax)"
   ]
  },
  {
   "cell_type": "code",
   "execution_count": 38,
   "metadata": {},
   "outputs": [
    {
     "name": "stdout",
     "output_type": "stream",
     "text": [
      "0.5704700961084861\n"
     ]
    }
   ],
   "source": [
    "Z=np.random.random(30)\n",
    "m=Z.mean()\n",
    "print(m)"
   ]
  },
  {
   "cell_type": "code",
   "execution_count": 39,
   "metadata": {},
   "outputs": [
    {
     "name": "stdout",
     "output_type": "stream",
     "text": [
      "[[1. 1. 1. 1. 1. 1. 1. 1. 1. 1.]\n",
      " [1. 0. 0. 0. 0. 0. 0. 0. 0. 1.]\n",
      " [1. 0. 0. 0. 0. 0. 0. 0. 0. 1.]\n",
      " [1. 0. 0. 0. 0. 0. 0. 0. 0. 1.]\n",
      " [1. 0. 0. 0. 0. 0. 0. 0. 0. 1.]\n",
      " [1. 0. 0. 0. 0. 0. 0. 0. 0. 1.]\n",
      " [1. 0. 0. 0. 0. 0. 0. 0. 0. 1.]\n",
      " [1. 0. 0. 0. 0. 0. 0. 0. 0. 1.]\n",
      " [1. 0. 0. 0. 0. 0. 0. 0. 0. 1.]\n",
      " [1. 1. 1. 1. 1. 1. 1. 1. 1. 1.]]\n"
     ]
    }
   ],
   "source": [
    "#范围换值\n",
    "Z=np.ones((10,10))\n",
    "Z[1:-1,1:-1]=0\n",
    "print(Z)"
   ]
  },
  {
   "cell_type": "code",
   "execution_count": 40,
   "metadata": {},
   "outputs": [
    {
     "name": "stdout",
     "output_type": "stream",
     "text": [
      "[[0. 0. 0. 0. 0. 0. 0. 0. 0.]\n",
      " [0. 0. 0. 0. 0. 0. 0. 0. 0.]\n",
      " [0. 0. 1. 1. 1. 1. 1. 0. 0.]\n",
      " [0. 0. 1. 1. 1. 1. 1. 0. 0.]\n",
      " [0. 0. 1. 1. 1. 1. 1. 0. 0.]\n",
      " [0. 0. 1. 1. 1. 1. 1. 0. 0.]\n",
      " [0. 0. 1. 1. 1. 1. 1. 0. 0.]\n",
      " [0. 0. 0. 0. 0. 0. 0. 0. 0.]\n",
      " [0. 0. 0. 0. 0. 0. 0. 0. 0.]]\n"
     ]
    }
   ],
   "source": [
    "#pad...扩充\n",
    "Z=np.ones((5,5))\n",
    "Z=np.pad(Z,pad_width=2,mode=\"constant\",constant_values=0)\n",
    "print(Z)"
   ]
  },
  {
   "cell_type": "code",
   "execution_count": 41,
   "metadata": {},
   "outputs": [
    {
     "name": "stdout",
     "output_type": "stream",
     "text": [
      "nan\n",
      "False\n",
      "False\n",
      "inf\n",
      "nan\n",
      "False\n",
      "0.30000000000000004\n",
      "<class 'float'>\n",
      "<class 'float'>\n",
      "5.551115123125783e-17\n"
     ]
    }
   ],
   "source": [
    "print(0*np.nan)\n",
    "print(np.nan==np.nan)\n",
    "print(np.inf>np.nan)\n",
    "print(np.inf)\n",
    "print(np.nan-np.nan)\n",
    "print(0.3==0.1*3)\n",
    "print(0.1*3)\n",
    "print(type(0.1*3))\n",
    "print(type(0.3))\n",
    "a=0.1*3\n",
    "b=0.3\n",
    "print(a-b)"
   ]
  },
  {
   "cell_type": "code",
   "execution_count": 42,
   "metadata": {},
   "outputs": [
    {
     "name": "stdout",
     "output_type": "stream",
     "text": [
      "[[0 0 0 0 0]\n",
      " [1 0 0 0 0]\n",
      " [0 2 0 0 0]\n",
      " [0 0 3 0 0]\n",
      " [0 0 0 4 0]]\n",
      "[[1 0 0 0 0]\n",
      " [0 2 0 0 0]\n",
      " [0 0 3 0 0]\n",
      " [0 0 0 4 0]\n",
      " [0 0 0 0 5]]\n"
     ]
    }
   ],
   "source": [
    "#对角线上赋值\n",
    "Z=np.diag(1+np.arange(4),k=-1)\n",
    "print(Z)\n",
    "Z=np.diag(1+np.arange(5),k=0)\n",
    "print(Z)"
   ]
  },
  {
   "cell_type": "code",
   "execution_count": 43,
   "metadata": {},
   "outputs": [
    {
     "name": "stdout",
     "output_type": "stream",
     "text": [
      "[[0 0 0 0 0 0 0 0]\n",
      " [0 0 0 0 0 0 0 0]\n",
      " [0 0 0 0 0 0 0 0]\n",
      " [0 0 0 0 0 0 0 0]\n",
      " [0 0 0 0 0 0 0 0]\n",
      " [0 0 0 0 0 0 0 0]\n",
      " [0 0 0 0 0 0 0 0]\n",
      " [0 0 0 0 0 0 0 0]]\n",
      "[[0 1 0 1 0 1 0 1]\n",
      " [1 0 1 0 1 0 1 0]\n",
      " [0 1 0 1 0 1 0 1]\n",
      " [1 0 1 0 1 0 1 0]\n",
      " [0 1 0 1 0 1 0 1]\n",
      " [1 0 1 0 1 0 1 0]\n",
      " [0 1 0 1 0 1 0 1]\n",
      " [1 0 1 0 1 0 1 0]]\n"
     ]
    }
   ],
   "source": [
    "Z=np.zeros((8,8),dtype=int)\n",
    "print(Z)\n",
    "Z[1::2,::2]=1\n",
    "Z[::2,1::2]=1\n",
    "print(Z)"
   ]
  },
  {
   "cell_type": "code",
   "execution_count": 44,
   "metadata": {},
   "outputs": [
    {
     "name": "stdout",
     "output_type": "stream",
     "text": [
      "(0, 0, 1)\n",
      "(0, 0, 2)\n",
      "(0, 0, 3)\n",
      "(0, 1, 2)\n",
      "(1, 0)\n",
      "(1, 1)\n"
     ]
    }
   ],
   "source": [
    "#求一个numpy 中第i个值得下标\n",
    "print(np.unravel_index(1,(6,7,8)))\n",
    "print(np.unravel_index(2,(6,7,8)))\n",
    "print(np.unravel_index(3,(6,7,8)))\n",
    "print(np.unravel_index(10,(6,7,8)))\n",
    "print(np.unravel_index(10,(10,10)))\n",
    "print(np.unravel_index(11,(10,10)))"
   ]
  },
  {
   "cell_type": "code",
   "execution_count": 45,
   "metadata": {},
   "outputs": [
    {
     "name": "stdout",
     "output_type": "stream",
     "text": [
      "[[0 1 0 1 0 1 0 1]\n",
      " [1 0 1 0 1 0 1 0]\n",
      " [0 1 0 1 0 1 0 1]\n",
      " [1 0 1 0 1 0 1 0]\n",
      " [0 1 0 1 0 1 0 1]\n",
      " [1 0 1 0 1 0 1 0]\n",
      " [0 1 0 1 0 1 0 1]\n",
      " [1 0 1 0 1 0 1 0]]\n"
     ]
    }
   ],
   "source": [
    "Z=np.tile(np.array([[0,1],[1,0]]),(4,4))\n",
    "print(Z)"
   ]
  },
  {
   "cell_type": "code",
   "execution_count": 46,
   "metadata": {},
   "outputs": [
    {
     "name": "stdout",
     "output_type": "stream",
     "text": [
      "[[0.59868934 0.37435612 0.37589167 0.0558303  1.        ]\n",
      " [0.45544383 0.41364651 0.19913427 0.20722756 0.66446328]\n",
      " [0.35769918 0.66646892 0.98650953 0.7254262  0.7953895 ]\n",
      " [0.89298439 0.49384215 0.62903657 0.06694565 0.94863385]\n",
      " [0.78385662 0.         0.49693366 0.9371488  0.86800512]]\n"
     ]
    }
   ],
   "source": [
    "#均值归一化\n",
    "Z=np.random.random((5,5))\n",
    "Zmax,Zmin=Z.max(),Z.min()\n",
    "Z_s=(Z-Zmin)/(Zmax-Zmin)\n",
    "print(Z_s)\n"
   ]
  },
  {
   "cell_type": "code",
   "execution_count": 47,
   "metadata": {},
   "outputs": [
    {
     "data": {
      "text/plain": [
       "dtype([('r', 'u1'), ('g', 'u1'), ('b', 'u1'), ('a', 'u1')])"
      ]
     },
     "execution_count": 47,
     "metadata": {},
     "output_type": "execute_result"
    }
   ],
   "source": [
    "color=np.dtype([(\"r\",np.ubyte,1),\n",
    "                (\"g\",np.ubyte,1),\n",
    "                (\"b\",np.ubyte,1),\n",
    "                (\"a\",np.ubyte,1)\n",
    "               ])\n",
    "color"
   ]
  },
  {
   "cell_type": "code",
   "execution_count": 48,
   "metadata": {},
   "outputs": [
    {
     "name": "stdout",
     "output_type": "stream",
     "text": [
      "[[3. 3.]\n",
      " [3. 3.]\n",
      " [3. 3.]\n",
      " [3. 3.]\n",
      " [3. 3.]]\n"
     ]
    }
   ],
   "source": [
    "np.ones((3,4))\n",
    "Z=np.dot(np.ones((5,3)),np.ones((3,2)))\n",
    "print(Z)"
   ]
  },
  {
   "cell_type": "code",
   "execution_count": 49,
   "metadata": {},
   "outputs": [
    {
     "name": "stdout",
     "output_type": "stream",
     "text": [
      "[ 0  1  2  3 -4 -5 -6 -7 -8  9 10]\n"
     ]
    }
   ],
   "source": [
    "#区域运算\n",
    "Z=np.arange(11)\n",
    "Z[(3<Z)&(Z<=8)]*=-1\n",
    "print(Z)"
   ]
  },
  {
   "cell_type": "code",
   "execution_count": 50,
   "metadata": {},
   "outputs": [
    {
     "name": "stdout",
     "output_type": "stream",
     "text": [
      "9\n",
      "10\n",
      "--------------\n",
      "0\n",
      "-1\n",
      "-2\n",
      "0.0\n"
     ]
    }
   ],
   "source": [
    "#为什么差1呢？？？\n",
    "print(sum(range(5),-1))\n",
    "print(np.sum(range(5),-1))\n",
    "print(\"--------------\")\n",
    "print(sum(range(0)))\n",
    "print(sum(range(0),-1))#非np得sum，从m开始计算求和。\n",
    "print(sum(range(0),-2))\n",
    "print(np.sum(range(0),-1))"
   ]
  },
  {
   "cell_type": "code",
   "execution_count": 51,
   "metadata": {},
   "outputs": [
    {
     "data": {
      "text/plain": [
       "array([  0.,  25.,  50.,  75., 100.])"
      ]
     },
     "execution_count": 51,
     "metadata": {},
     "output_type": "execute_result"
    }
   ],
   "source": [
    "Z=np.arange(5)\n",
    "Z**Z\n",
    "\n",
    "1j*Z\n",
    "Z/0.2/0.2"
   ]
  },
  {
   "cell_type": "code",
   "execution_count": 52,
   "metadata": {},
   "outputs": [
    {
     "name": "stdout",
     "output_type": "stream",
     "text": [
      "nan\n",
      "0\n",
      "[-2.14748365e+09]\n"
     ]
    },
    {
     "name": "stderr",
     "output_type": "stream",
     "text": [
      "C:\\Love\\Anaconda3\\lib\\site-packages\\ipykernel_launcher.py:1: RuntimeWarning: invalid value encountered in true_divide\n",
      "  \"\"\"Entry point for launching an IPython kernel.\n",
      "C:\\Love\\Anaconda3\\lib\\site-packages\\ipykernel_launcher.py:2: RuntimeWarning: divide by zero encountered in floor_divide\n",
      "  \n"
     ]
    }
   ],
   "source": [
    "print(np.array(0)/np.array(0))\n",
    "print(np.array(0)//np.array(0))\n",
    "print(np.array([np.nan]).astype(int).astype(float))"
   ]
  },
  {
   "cell_type": "code",
   "execution_count": 53,
   "metadata": {},
   "outputs": [
    {
     "data": {
      "text/plain": [
       "array(0)"
      ]
     },
     "execution_count": 53,
     "metadata": {},
     "output_type": "execute_result"
    }
   ],
   "source": [
    "np.array(0)"
   ]
  },
  {
   "cell_type": "code",
   "execution_count": 54,
   "metadata": {},
   "outputs": [
    {
     "name": "stdout",
     "output_type": "stream",
     "text": [
      "[ 9.  4. -4.  7. -1. -5. -5.  2.  3. -1.]\n"
     ]
    }
   ],
   "source": [
    "Z=np.random.uniform(-10,+10,10)#随机数\n",
    "print(np.copysign(np.ceil(np.abs(Z)),Z))#ceil四舍五入  "
   ]
  },
  {
   "cell_type": "code",
   "execution_count": 55,
   "metadata": {},
   "outputs": [
    {
     "name": "stdout",
     "output_type": "stream",
     "text": [
      "copysign(x1, x2, /, out=None, *, where=True, casting='same_kind', order='K', dtype=None, subok=True[, signature, extobj])\n",
      "\n",
      "Change the sign of x1 to that of x2, element-wise.\n",
      "\n",
      "If both arguments are arrays or sequences, they have to be of the same\n",
      "length. If `x2` is a scalar, its sign will be copied to all elements of\n",
      "`x1`.\n",
      "\n",
      "Parameters\n",
      "----------\n",
      "x1 : array_like\n",
      "    Values to change the sign of.\n",
      "x2 : array_like\n",
      "    The sign of `x2` is copied to `x1`.\n",
      "out : ndarray, None, or tuple of ndarray and None, optional\n",
      "    A location into which the result is stored. If provided, it must have\n",
      "    a shape that the inputs broadcast to. If not provided or `None`,\n",
      "    a freshly-allocated array is returned. A tuple (possible only as a\n",
      "    keyword argument) must have length equal to the number of outputs.\n",
      "where : array_like, optional\n",
      "    Values of True indicate to calculate the ufunc at that position, values\n",
      "    of False indicate to leave the value in the output alone.\n",
      "**kwargs\n",
      "    For other keyword-only arguments, see the\n",
      "    :ref:`ufunc docs <ufuncs.kwargs>`.\n",
      "\n",
      "Returns\n",
      "-------\n",
      "out : ndarray or scalar\n",
      "    The values of `x1` with the sign of `x2`.\n",
      "    This is a scalar if both `x1` and `x2` are scalars.\n",
      "\n",
      "Examples\n",
      "--------\n",
      ">>> np.copysign(1.3, -1)\n",
      "-1.3\n",
      ">>> 1/np.copysign(0, 1)\n",
      "inf\n",
      ">>> 1/np.copysign(0, -1)\n",
      "-inf\n",
      "\n",
      ">>> np.copysign([-1, 0, 1], -1.1)\n",
      "array([-1., -0., -1.])\n",
      ">>> np.copysign([-1, 0, 1], np.arange(3)-1)\n",
      "array([-1.,  0.,  1.])\n"
     ]
    }
   ],
   "source": [
    "#np.info(np.random.uniform)\n",
    "#np.info(np.ceil)\n",
    "np.info(np.copysign)"
   ]
  },
  {
   "cell_type": "code",
   "execution_count": 56,
   "metadata": {},
   "outputs": [
    {
     "name": "stdout",
     "output_type": "stream",
     "text": [
      "[0 3 4 8]\n"
     ]
    }
   ],
   "source": [
    "#两个np.arrry中相同得元素\n",
    "Z1=np.random.randint(0,10,10)\n",
    "Z2=np.random.randint(0,10,10)\n",
    "print(np.intersect1d(Z1,Z2))"
   ]
  },
  {
   "cell_type": "code",
   "execution_count": 57,
   "metadata": {},
   "outputs": [
    {
     "name": "stdout",
     "output_type": "stream",
     "text": [
      "[inf]\n"
     ]
    }
   ],
   "source": [
    "defaults=np.seterr(all=\"ignore\")\n",
    "Z=np.ones(1)/0\n",
    "_=np.seterr(**defaults)\n",
    "with np.errstate(divide=\"ignore\"):\n",
    "    Z=np.ones(1)/0\n",
    "    print(Z)"
   ]
  },
  {
   "cell_type": "code",
   "execution_count": 58,
   "metadata": {},
   "outputs": [
    {
     "name": "stderr",
     "output_type": "stream",
     "text": [
      "C:\\Love\\Anaconda3\\lib\\site-packages\\ipykernel_launcher.py:1: RuntimeWarning: invalid value encountered in sqrt\n",
      "  \"\"\"Entry point for launching an IPython kernel.\n"
     ]
    },
    {
     "data": {
      "text/plain": [
       "False"
      ]
     },
     "execution_count": 58,
     "metadata": {},
     "output_type": "execute_result"
    }
   ],
   "source": [
    "np.sqrt(-1)==np.emath.sqrt(-1)"
   ]
  },
  {
   "cell_type": "code",
   "execution_count": 59,
   "metadata": {},
   "outputs": [
    {
     "name": "stdout",
     "output_type": "stream",
     "text": [
      "Wrapper functions to more user-friendly calling of certain math functions\n",
      "whose output data-type is different than the input data-type in certain\n",
      "domains of the input.\n",
      "\n",
      "For example, for functions like `log` with branch cuts, the versions in this\n",
      "module provide the mathematically valid answers in the complex plane::\n",
      "\n",
      "  >>> import math\n",
      "  >>> from numpy.lib import scimath\n",
      "  >>> scimath.log(-math.exp(1)) == (1+1j*math.pi)\n",
      "  True\n",
      "\n",
      "Similarly, `sqrt`, other base logarithms, `power` and trig functions are\n",
      "correctly handled.  See their respective docstrings for specific examples.\n"
     ]
    }
   ],
   "source": [
    "np.info(np.emath)"
   ]
  },
  {
   "cell_type": "code",
   "execution_count": 60,
   "metadata": {},
   "outputs": [
    {
     "name": "stdout",
     "output_type": "stream",
     "text": [
      "2019-06-23\n",
      "2019-06-24\n",
      "2019-06-25\n"
     ]
    }
   ],
   "source": [
    "yesterday=np.datetime64(\"today\",\"D\")-np.timedelta64(1,\"D\")\n",
    "print(yesterday)\n",
    "today=np.datetime64(\"today\",\"D\")\n",
    "print(today)\n",
    "tomorrow=np.datetime64(\"today\",\"D\")+np.timedelta64(1,\"D\")\n",
    "print(tomorrow)"
   ]
  },
  {
   "cell_type": "code",
   "execution_count": 61,
   "metadata": {},
   "outputs": [
    {
     "name": "stdout",
     "output_type": "stream",
     "text": [
      "['2016-07-01' '2016-07-02' '2016-07-03' '2016-07-04' '2016-07-05'\n",
      " '2016-07-06' '2016-07-07' '2016-07-08' '2016-07-09' '2016-07-10'\n",
      " '2016-07-11' '2016-07-12' '2016-07-13' '2016-07-14' '2016-07-15'\n",
      " '2016-07-16' '2016-07-17' '2016-07-18' '2016-07-19' '2016-07-20'\n",
      " '2016-07-21' '2016-07-22' '2016-07-23' '2016-07-24' '2016-07-25'\n",
      " '2016-07-26' '2016-07-27' '2016-07-28' '2016-07-29' '2016-07-30'\n",
      " '2016-07-31']\n"
     ]
    }
   ],
   "source": [
    "#时间的范围\n",
    "Z=np.arange(\"2016-07\",\"2016-08\",dtype=\"datetime64[D]\")\n",
    "print(Z)"
   ]
  },
  {
   "cell_type": "code",
   "execution_count": 62,
   "metadata": {},
   "outputs": [
    {
     "name": "stdout",
     "output_type": "stream",
     "text": [
      "[3. 3. 3.]\n"
     ]
    }
   ],
   "source": [
    "A=np.ones(3)*1\n",
    "B=np.ones(3)*2\n",
    "C=np.ones(3)*3\n",
    "x=np.add(A,B,out=B)\n",
    "print(x)"
   ]
  },
  {
   "cell_type": "code",
   "execution_count": 63,
   "metadata": {},
   "outputs": [
    {
     "data": {
      "text/plain": [
       "array([0.5, 0.5, 0.5])"
      ]
     },
     "execution_count": 63,
     "metadata": {},
     "output_type": "execute_result"
    }
   ],
   "source": [
    "np.divide(A,2,out=A)"
   ]
  },
  {
   "cell_type": "code",
   "execution_count": 64,
   "metadata": {},
   "outputs": [
    {
     "data": {
      "text/plain": [
       "array([-0.5, -0.5, -0.5])"
      ]
     },
     "execution_count": 64,
     "metadata": {},
     "output_type": "execute_result"
    }
   ],
   "source": [
    "np.negative(A,out=A)"
   ]
  },
  {
   "cell_type": "code",
   "execution_count": 65,
   "metadata": {},
   "outputs": [
    {
     "data": {
      "text/plain": [
       "array([-1.5, -1.5, -1.5])"
      ]
     },
     "execution_count": 65,
     "metadata": {},
     "output_type": "execute_result"
    }
   ],
   "source": [
    "np.multiply(A,B,out=A)"
   ]
  },
  {
   "cell_type": "code",
   "execution_count": 66,
   "metadata": {},
   "outputs": [
    {
     "name": "stdout",
     "output_type": "stream",
     "text": [
      "[2.9790273  9.79409506 6.94928049 0.56683989 0.28955537 2.88902994\n",
      " 8.40596714 0.14551335 7.49020658 8.26021865]\n",
      "[2. 9. 6. 0. 0. 2. 8. 0. 7. 8.]\n",
      "[2. 9. 6. 0. 0. 2. 8. 0. 7. 8.]\n",
      "[2 9 6 0 0 2 8 0 7 8]\n",
      "[2. 9. 6. 0. 0. 2. 8. 0. 7. 8.]\n"
     ]
    }
   ],
   "source": [
    "#提取一个数字的整数部分\n",
    "Z=np.random.uniform(0,10,10)\n",
    "print(Z)\n",
    "print(np.floor(Z))\n",
    "print(np.ceil(Z)-1)\n",
    "print(Z.astype(int))\n",
    "print(np.trunc(Z))"
   ]
  },
  {
   "cell_type": "code",
   "execution_count": 67,
   "metadata": {},
   "outputs": [
    {
     "name": "stdout",
     "output_type": "stream",
     "text": [
      "[[0. 1. 2. 3. 4.]\n",
      " [0. 1. 2. 3. 4.]\n",
      " [0. 1. 2. 3. 4.]\n",
      " [0. 1. 2. 3. 4.]\n",
      " [0. 1. 2. 3. 4.]]\n",
      "[0 1 2 3 4]\n",
      "[[0. 0. 0. 0. 0.]]\n"
     ]
    }
   ],
   "source": [
    "Z=np.zeros((5,5))\n",
    "Z+=np.arange(5)\n",
    "print(Z)\n",
    "Z=np.zeros((1,5))\n",
    "print(np.arange(5))\n",
    "print(Z)"
   ]
  },
  {
   "cell_type": "code",
   "execution_count": 68,
   "metadata": {},
   "outputs": [
    {
     "name": "stdout",
     "output_type": "stream",
     "text": [
      "[0. 1. 2. 3. 4. 5. 6. 7. 8. 9.]\n",
      "<class 'numpy.ndarray'>\n"
     ]
    }
   ],
   "source": [
    "def generate():\n",
    "    for x in range(10):\n",
    "        yield x\n",
    "Z=np.fromiter(generate(),dtype=float)\n",
    "print(Z)\n",
    "print(type(Z))\n",
    "#print(np.info(np.fromiter))"
   ]
  },
  {
   "cell_type": "code",
   "execution_count": 69,
   "metadata": {},
   "outputs": [
    {
     "name": "stdout",
     "output_type": "stream",
     "text": [
      "[0.09090909 0.18181818 0.27272727 0.36363636 0.45454545 0.54545455\n",
      " 0.63636364 0.72727273 0.81818182 0.90909091]\n"
     ]
    }
   ],
   "source": [
    "Z=np.linspace(0,1,11,endpoint=False)[1:]\n",
    "print(Z)"
   ]
  },
  {
   "cell_type": "code",
   "execution_count": 70,
   "metadata": {},
   "outputs": [
    {
     "name": "stdout",
     "output_type": "stream",
     "text": [
      "[0.04741605 0.27044398 0.28911561 0.30687667 0.35213057 0.46725593\n",
      " 0.56712914 0.60007496 0.92287204 0.97153163]\n"
     ]
    }
   ],
   "source": [
    "Z=np.random.random(10)\n",
    "Z.sort()\n",
    "print(Z)"
   ]
  },
  {
   "cell_type": "code",
   "execution_count": 71,
   "metadata": {},
   "outputs": [
    {
     "data": {
      "text/plain": [
       "45"
      ]
     },
     "execution_count": 71,
     "metadata": {},
     "output_type": "execute_result"
    }
   ],
   "source": [
    "#对小数组做排序\n",
    "Z=np.arange(10)\n",
    "np.add.reduce(Z)"
   ]
  },
  {
   "cell_type": "code",
   "execution_count": 72,
   "metadata": {},
   "outputs": [
    {
     "name": "stdout",
     "output_type": "stream",
     "text": [
      "False\n",
      "False\n"
     ]
    }
   ],
   "source": [
    "A=np.random.randint(0,2,5)\n",
    "B=np.random.randint(0,2,5)\n",
    "equal=np.allclose(A,B)\n",
    "print(equal)\n",
    "equal=np.array_equal(A,B)\n",
    "print(equal)"
   ]
  },
  {
   "cell_type": "code",
   "execution_count": 73,
   "metadata": {},
   "outputs": [
    {
     "name": "stdout",
     "output_type": "stream",
     "text": [
      "0.0\n"
     ]
    }
   ],
   "source": [
    "#建立一个只读数组\n",
    "Z=np.zeros(10)\n",
    "Z.flags.writeable=False\n",
    "#Z[0]=1\n",
    "print(Z[0])"
   ]
  },
  {
   "cell_type": "code",
   "execution_count": 74,
   "metadata": {},
   "outputs": [
    {
     "name": "stdout",
     "output_type": "stream",
     "text": [
      "[0.1623036  0.06902429 0.33405423 1.03219974 0.35697417 1.29001642\n",
      " 1.15558771 0.52578819 0.51099223 0.44000028]\n",
      "[0.0879739  0.85922269 1.48308737 1.06437765 0.15492242 0.78970909\n",
      " 0.89017282 1.07494145 1.14232527 0.80258641]\n"
     ]
    }
   ],
   "source": [
    "Z=np.random.random((10,2))\n",
    "X,Y=Z[:,0],Z[:,1]\n",
    "R=np.sqrt(X**2+Y**2)\n",
    "T=np.arctan2(Y,X)\n",
    "print(R)\n",
    "print(T)"
   ]
  },
  {
   "cell_type": "code",
   "execution_count": 75,
   "metadata": {},
   "outputs": [
    {
     "name": "stdout",
     "output_type": "stream",
     "text": [
      "[0.08881572 0.34024987 0.02363477 0.04374372 0.40488676 0.09798354\n",
      " 0.80847128 0.70185846 0.         0.16930376]\n"
     ]
    }
   ],
   "source": [
    "#替换最大值\n",
    "Z=np.random.random(10)\n",
    "Z[Z.argmax()]=0\n",
    "print(Z)"
   ]
  },
  {
   "cell_type": "code",
   "execution_count": 76,
   "metadata": {},
   "outputs": [
    {
     "name": "stdout",
     "output_type": "stream",
     "text": [
      "[[(0., 0.) (0., 0.) (0., 0.) (0., 0.) (0., 0.)]\n",
      " [(0., 0.) (0., 0.) (0., 0.) (0., 0.) (0., 0.)]\n",
      " [(0., 0.) (0., 0.) (0., 0.) (0., 0.) (0., 0.)]\n",
      " [(0., 0.) (0., 0.) (0., 0.) (0., 0.) (0., 0.)]\n",
      " [(0., 0.) (0., 0.) (0., 0.) (0., 0.) (0., 0.)]]\n",
      "[[(0.  , 0.  ) (0.25, 0.25) (0.5 , 0.5 ) (0.75, 0.75) (1.  , 1.  )]\n",
      " [(0.  , 0.  ) (0.25, 0.25) (0.5 , 0.5 ) (0.75, 0.75) (1.  , 1.  )]\n",
      " [(0.  , 0.  ) (0.25, 0.25) (0.5 , 0.5 ) (0.75, 0.75) (1.  , 1.  )]\n",
      " [(0.  , 0.  ) (0.25, 0.25) (0.5 , 0.5 ) (0.75, 0.75) (1.  , 1.  )]\n",
      " [(0.  , 0.  ) (0.25, 0.25) (0.5 , 0.5 ) (0.75, 0.75) (1.  , 1.  )]]\n"
     ]
    }
   ],
   "source": [
    "Z=np.zeros((5,5),[(\"x\",float),(\"y\",float)])\n",
    "print(Z)\n",
    "Z[\"x\"],Z[\"y\"]=np.meshgrid(np.linspace(0,1,5)),np.linspace(0,1,5)#0--1分成5份\n",
    "print(Z)"
   ]
  },
  {
   "cell_type": "code",
   "execution_count": 77,
   "metadata": {},
   "outputs": [
    {
     "name": "stdout",
     "output_type": "stream",
     "text": [
      "3638.163637117973\n"
     ]
    }
   ],
   "source": [
    "#构建函数运算\n",
    "X=np.arange(8)\n",
    "Y=X+0.5\n",
    "C=1.0/np.subtract.outer(X,Y)\n",
    "print(np.linalg.det(C))"
   ]
  },
  {
   "cell_type": "code",
   "execution_count": 78,
   "metadata": {},
   "outputs": [
    {
     "name": "stdout",
     "output_type": "stream",
     "text": [
      "<class 'numpy.int8'>  --  -128\n",
      "<class 'numpy.int8'>  --  127\n",
      "<class 'numpy.int32'>  --  -2147483648\n",
      "<class 'numpy.int32'>  --  2147483647\n",
      "<class 'numpy.int64'>  --  -9223372036854775808\n",
      "<class 'numpy.int64'>  --  9223372036854775807\n",
      "-3.4028235e+38\n",
      "3.4028235e+38\n",
      "1.1920929e-07\n",
      "-1.7976931348623157e+308\n",
      "1.7976931348623157e+308\n",
      "2.220446049250313e-16\n"
     ]
    }
   ],
   "source": [
    "for dtype in [np.int8,np.int32,np.int64]:\n",
    "    print(dtype,\" -- \",np.iinfo(dtype).min)\n",
    "    print(dtype,\" -- \",np.iinfo(dtype).max)\n",
    "for dtype in [np.float32,np.float64]:\n",
    "    print(np.finfo(dtype).min)\n",
    "    print(np.finfo(dtype).max)\n",
    "    print(np.finfo(dtype).eps)"
   ]
  },
  {
   "cell_type": "code",
   "execution_count": 79,
   "metadata": {},
   "outputs": [
    {
     "name": "stdout",
     "output_type": "stream",
     "text": [
      "[[0. 0. 0. ... 0. 0. 0.]\n",
      " [0. 0. 0. ... 0. 0. 0.]\n",
      " [0. 0. 0. ... 0. 0. 0.]\n",
      " ...\n",
      " [0. 0. 0. ... 0. 0. 0.]\n",
      " [0. 0. 0. ... 0. 0. 0.]\n",
      " [0. 0. 0. ... 0. 0. 0.]]\n"
     ]
    }
   ],
   "source": [
    "#打印数组中的所有值\n",
    "np.set_printoptions(threshold=2)##设置为np.nan是错误的啊？？？\n",
    "Z=np.zeros((16,16))\n",
    "print(Z)"
   ]
  },
  {
   "cell_type": "code",
   "execution_count": 80,
   "metadata": {},
   "outputs": [
    {
     "name": "stdout",
     "output_type": "stream",
     "text": [
      "73.12965457473032  --->  73\n"
     ]
    }
   ],
   "source": [
    "#给定一个标量，找到一个数组中与该标量值最接近的数字\n",
    "Z=np.arange(100)\n",
    "v=np.random.uniform(0,100)\n",
    "index=(np.abs(Z-v)).argmin()\n",
    "print(v,\" ---> \",Z[index])"
   ]
  },
  {
   "cell_type": "code",
   "execution_count": 81,
   "metadata": {},
   "outputs": [
    {
     "name": "stdout",
     "output_type": "stream",
     "text": [
      "[((0., 0.), (0., 0., 0.))]\n"
     ]
    }
   ],
   "source": [
    "#构建结构化数组，内部可以包含n个组合\n",
    "Z=np.zeros(1,\n",
    "           [\n",
    "               (\"position\",[\n",
    "                   (\"x\",float,1),\n",
    "                   (\"y\",float,1)\n",
    "               ]),\n",
    "               (\"color\",[\n",
    "                   (\"r\",float,1),\n",
    "                   (\"g\",float,1),\n",
    "                   (\"b\",float,1)\n",
    "               ])\n",
    "           ]\n",
    "          )\n",
    "print(Z)"
   ]
  },
  {
   "cell_type": "code",
   "execution_count": 82,
   "metadata": {},
   "outputs": [
    {
     "name": "stdout",
     "output_type": "stream",
     "text": [
      "-------------\n",
      "[[0.43655212 0.76436302]\n",
      " [0.40079531 0.48887525]\n",
      " [0.74769103 0.1240321 ]\n",
      " ...\n",
      " [0.99733683 0.29677202]\n",
      " [0.51162686 0.68454723]\n",
      " [0.47370114 0.39494328]]\n",
      "[[0.         0.2777986  0.71192072 ... 0.73015124 0.10957544 0.3712829 ]\n",
      " [0.2777986  0.         0.50343537 ... 0.62671001 0.22488031 0.11890532]\n",
      " [0.71192072 0.50343537 0.         ... 0.30358212 0.60819693 0.3853094 ]\n",
      " ...\n",
      " [0.73015124 0.62671001 0.30358212 ... 0.         0.62151732 0.5327588 ]\n",
      " [0.10957544 0.22488031 0.60819693 ... 0.62151732 0.         0.29207671]\n",
      " [0.3712829  0.11890532 0.3853094  ... 0.5327588  0.29207671 0.        ]]\n",
      "(10, 10)\n"
     ]
    }
   ],
   "source": [
    "# \n",
    "Z=np.random.random((10,2))\n",
    "print(\"-------------\")\n",
    "print(Z)\n",
    "X,Y=np.atleast_2d(Z[:,0],Z[:,1])\n",
    "D=np.sqrt((X-X.T)**2+(Y-Y.T)**2)\n",
    "print(D)\n",
    "print(D.shape)"
   ]
  },
  {
   "cell_type": "code",
   "execution_count": 88,
   "metadata": {},
   "outputs": [
    {
     "name": "stdout",
     "output_type": "stream",
     "text": [
      "[0 1 2 ... 7 8 9]\n",
      "[0. 1. 2. ... 7. 8. 9.]\n",
      "------浮点数转为整数----------\n",
      "[0. 1. 2. ... 7. 8. 9.]\n",
      "[0 1 2 ... 7 8 9]\n"
     ]
    }
   ],
   "source": [
    "# 整数转为32浮点数\n",
    "Z=np.arange(10,dtype=np.int32)\n",
    "print(Z)\n",
    "Z=Z.astype(np.float32,copy=False)\n",
    "print(Z)\n",
    "print(\"------浮点数转为整数----------\")\n",
    "Z=np.arange(10,dtype=np.float32)\n",
    "print(Z)\n",
    "Z=Z.astype(np.int32,copy=False)\n",
    "print(Z)"
   ]
  },
  {
   "cell_type": "code",
   "execution_count": 90,
   "metadata": {},
   "outputs": [
    {
     "name": "stdout",
     "output_type": "stream",
     "text": [
      "[[0.36787944 0.44822088 0.51979489 ... 0.51979489 0.44822088 0.36787944]\n",
      " [0.44822088 0.54610814 0.63331324 ... 0.63331324 0.54610814 0.44822088]\n",
      " [0.51979489 0.63331324 0.73444367 ... 0.73444367 0.63331324 0.51979489]\n",
      " ...\n",
      " [0.51979489 0.63331324 0.73444367 ... 0.73444367 0.63331324 0.51979489]\n",
      " [0.44822088 0.54610814 0.63331324 ... 0.63331324 0.54610814 0.44822088]\n",
      " [0.36787944 0.44822088 0.51979489 ... 0.51979489 0.44822088 0.36787944]]\n"
     ]
    }
   ],
   "source": [
    "#生成一个二维的高斯分布数据\n",
    "X,Y=np.meshgrid(np.linspace(-1,1,10),np.linspace(-1,1,10))\n",
    "D=np.sqrt(X*X+Y*Y)\n",
    "sigma, mu=1.0,0.0\n",
    "G=np.exp(-((D-mu)**2/(2.0*sigma**2)))\n",
    "print(G)"
   ]
  },
  {
   "cell_type": "code",
   "execution_count": 92,
   "metadata": {},
   "outputs": [
    {
     "name": "stdout",
     "output_type": "stream",
     "text": [
      "[[0. 0. 0. ... 0. 0. 0.]\n",
      " [0. 0. 0. ... 0. 0. 0.]\n",
      " [0. 0. 0. ... 0. 0. 0.]\n",
      " ...\n",
      " [0. 0. 0. ... 0. 0. 0.]\n",
      " [0. 0. 0. ... 0. 0. 0.]\n",
      " [0. 0. 0. ... 0. 0. 0.]]\n"
     ]
    }
   ],
   "source": [
    "#随机放置p个元素在数组中\n",
    "n=10\n",
    "p=3\n",
    "Z=np.zeros((n,n))\n",
    "np.put(Z,np.random.choice(range(n*n),p,replace=False),1)\n",
    "print(Z)"
   ]
  },
  {
   "cell_type": "code",
   "execution_count": 95,
   "metadata": {},
   "outputs": [
    {
     "name": "stdout",
     "output_type": "stream",
     "text": [
      "[[0.82902084 0.86370533 0.31558551 ... 0.68678764 0.02502057 0.19780268]\n",
      " [0.50183119 0.77659867 0.45134627 ... 0.88808404 0.62192782 0.37942554]\n",
      " [0.77547543 0.04880797 0.10309099 ... 0.48755534 0.3082887  0.60198351]\n",
      " [0.33657782 0.11382087 0.52469892 ... 0.02409527 0.47669838 0.5043366 ]\n",
      " [0.14486749 0.66196416 0.20110115 ... 0.23445639 0.55106244 0.65003789]]\n",
      "[[ 0.34096569  0.37565018 -0.17246964 ...  0.19873249 -0.46303458\n",
      "  -0.29025247]\n",
      " [-0.18148036  0.09328712 -0.23196528 ...  0.20477249 -0.06138373\n",
      "  -0.30388601]\n",
      " [ 0.44818624 -0.27848123 -0.22419821 ...  0.16026615 -0.0190005\n",
      "   0.27469431]\n",
      " [-0.07380484 -0.29656179  0.11431627 ... -0.38628738  0.06631572\n",
      "   0.09395394]\n",
      " [-0.22736048  0.2897362  -0.17112682 ... -0.13777158  0.17883447\n",
      "   0.27780993]]\n",
      "[[ 0.31146628  0.37072593 -0.00357906 ...  0.2225919  -0.37157901\n",
      "  -0.26891456]\n",
      " [-0.01572337  0.28361927  0.1321817  ...  0.4238883   0.22532824\n",
      "  -0.08729171]\n",
      " [ 0.25792088 -0.44417143 -0.21607358 ...  0.02335961 -0.08831088\n",
      "   0.13526626]\n",
      " [-0.18097673 -0.37915853  0.20553436 ... -0.44010046  0.08009879\n",
      "   0.03761935]\n",
      " [-0.37268706  0.16898476 -0.11806342 ... -0.22973935  0.15446286\n",
      "   0.18332065]]\n"
     ]
    }
   ],
   "source": [
    "X=np.random.rand(5,10)\n",
    "print(X)\n",
    "#减去X的每一行的均值\n",
    "Y=X-X.mean(axis=1,keepdims=True)\n",
    "print(Y)\n",
    "Y=X-X.mean(axis=0,keepdims=True)\n",
    "print(Y)"
   ]
  },
  {
   "cell_type": "code",
   "execution_count": 100,
   "metadata": {},
   "outputs": [
    {
     "name": "stdout",
     "output_type": "stream",
     "text": [
      "[[3 5 5]\n",
      " [2 0 6]\n",
      " [2 6 6]]\n",
      "[[3 5 5]\n",
      " [2 0 6]\n",
      " [2 6 6]]\n"
     ]
    }
   ],
   "source": [
    "Z=np.random.randint(0,10,(3,3))\n",
    "print(Z)\n",
    "print(Z[Z[:,2].argsort()])#按照所有行，第n列进行排序~~~!!!!很重要，省去了构建dict！！！"
   ]
  },
  {
   "cell_type": "code",
   "execution_count": 108,
   "metadata": {},
   "outputs": [
    {
     "name": "stdout",
     "output_type": "stream",
     "text": [
      "[[0 1 0 ... 0 1 1]\n",
      " [1 0 0 ... 0 0 1]\n",
      " [1 0 0 ... 0 1 0]]\n",
      "True\n",
      "False\n"
     ]
    }
   ],
   "source": [
    "Z=np.random.randint(0,2,(3,10))\n",
    "print(Z)\n",
    "print((~Z.any(axis=0)).any())#判断是否有空列\n",
    "print((~Z.any(axis=1)).any())#判断是否有空行"
   ]
  },
  {
   "cell_type": "code",
   "execution_count": 110,
   "metadata": {},
   "outputs": [
    {
     "name": "stdout",
     "output_type": "stream",
     "text": [
      "0.4594230063842457\n",
      "98.597598249746  --->  99\n"
     ]
    }
   ],
   "source": [
    "Z=np.random.uniform(0,1,10)\n",
    "z=0.5\n",
    "m=Z.flat[np.abs(Z-z).argmin()]\n",
    "print(m)\n",
    "\n",
    "#给定一个标量，找到一个数组中与该标量值最接近的数字\n",
    "Z=np.arange(100)\n",
    "v=np.random.uniform(0,100)\n",
    "index=(np.abs(Z-v)).argmin()\n",
    "print(v,\" ---> \",Z[index])"
   ]
  },
  {
   "cell_type": "code",
   "execution_count": 126,
   "metadata": {},
   "outputs": [
    {
     "name": "stdout",
     "output_type": "stream",
     "text": [
      "[[0]\n",
      " [1]\n",
      " [2]] [[0 1 2]]\n",
      "<numpy.nditer object at 0x000002425CB96030>\n",
      "0 0 0\n",
      "0 1 1\n",
      "0 2 2\n",
      "1 0 1\n",
      "1 1 2\n",
      "1 2 3\n",
      "2 0 2\n",
      "2 1 3\n",
      "2 2 4\n",
      "4\n",
      "[[0 1 2]\n",
      " [1 2 3]\n",
      " [2 3 4]]\n"
     ]
    }
   ],
   "source": [
    "# np.nditer做了什么不清楚........\n",
    "A=np.arange(3).reshape(3,1)\n",
    "B=np.arange(3).reshape(1,3)\n",
    "print(A,B)\n",
    "it=np.nditer([A,B,None])\n",
    "print(it)\n",
    "for x,y ,z in it:\n",
    "    print(x,y,z)\n",
    "    z[...]=x+y\n",
    "print(z)\n",
    "print(it.operands[2])"
   ]
  },
  {
   "cell_type": "code",
   "execution_count": 134,
   "metadata": {},
   "outputs": [
    {
     "name": "stdout",
     "output_type": "stream",
     "text": [
      "range_10\n"
     ]
    }
   ],
   "source": [
    "## 不理解....\n",
    "class NamedArray(np.ndarray):\n",
    "    def __new__(cls,array,name=\"no name\"):\n",
    "        obj=np.asarray(array).view(cls)\n",
    "        obj.name=name\n",
    "        \n",
    "        return obj\n",
    "    def __array__finalize__(self,obj):\n",
    "        if obj is None:\n",
    "            return\n",
    "        self.info=getattr(obj,\"name\",\"no name\")\n",
    "Z=NamedArray(np.arange(10),\"range_10\")\n",
    "print(Z.name)\n"
   ]
  },
  {
   "cell_type": "code",
   "execution_count": 145,
   "metadata": {},
   "outputs": [
    {
     "name": "stdout",
     "output_type": "stream",
     "text": [
      "[1. 1. 1. 1. 1.]\n",
      "[1 2 0 2 2 0]\n",
      "[3. 2. 4. 1. 1.]\n",
      "[2 1 3 0 0]\n"
     ]
    }
   ],
   "source": [
    "#64的题意没懂....\n",
    "Z=np.ones(5)\n",
    "print(Z)\n",
    "I=np.random.randint(0,len(Z),6)\n",
    "print(I)\n",
    "Z0=Z\n",
    "Z+=np.bincount(I,minlength=len(Z))\n",
    "print(Z)\n",
    "Z0=np.bincount(I,minlength=len(Z0))\n",
    "print(Z0)"
   ]
  },
  {
   "cell_type": "code",
   "execution_count": 158,
   "metadata": {},
   "outputs": [
    {
     "name": "stdout",
     "output_type": "stream",
     "text": [
      "0 -- 0.0\n",
      "1 -- 7.0\n",
      "2 -- 0.0\n",
      "3 -- 6.0\n",
      "4 -- 5.0\n",
      "5 -- 0.0\n",
      "6 -- 0.0\n",
      "7 -- 3.0\n"
     ]
    }
   ],
   "source": [
    "X=[1,2,3,4,5,6]#I为对应的索引\n",
    "I=[1,3,7,3,4,1]#索引列表,X和I的长度必须相等\n",
    "F=np.bincount(I,X)\n",
    "for index, one in enumerate(F):\n",
    "    print(index,\"--\",one)\n",
    "#print(F)"
   ]
  },
  {
   "cell_type": "code",
   "execution_count": null,
   "metadata": {},
   "outputs": [],
   "source": []
  }
 ],
 "metadata": {
  "kernelspec": {
   "display_name": "Python 3",
   "language": "python",
   "name": "python3"
  }
 },
 "nbformat": 4,
 "nbformat_minor": 2
}
