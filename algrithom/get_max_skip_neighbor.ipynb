{
 "cells": [
  {
   "cell_type": "code",
   "execution_count": 5,
   "metadata": {},
   "outputs": [
    {
     "name": "stdout",
     "output_type": "stream",
     "text": [
      "0\n",
      "1\n",
      "2 -- 5\n",
      "1\n",
      "0\n",
      "1\n",
      "2 -- 5\n",
      "3 -- 5\n",
      "4 -- 12\n",
      "1\n",
      "0\n",
      "1\n",
      "2 -- 5\n",
      "3 -- 5\n",
      "0\n",
      "1\n",
      "2 -- 5\n",
      "1\n",
      "0\n",
      "1\n",
      "2 -- 5\n",
      "3 -- 5\n",
      "4 -- 12\n",
      "5 -- 13\n",
      "6 -- 15\n"
     ]
    },
    {
     "data": {
      "text/plain": [
       "15"
      ]
     },
     "execution_count": 5,
     "metadata": {},
     "output_type": "execute_result"
    }
   ],
   "source": [
    "#对数组中不相邻的数字相加，求得最大的和。使用递归的方法会造成重叠子问题。\n",
    "#可是怎么打印出是选择了哪些数字呢？\n",
    "arr=[1,2,4,1,7,8,3]\n",
    "def get_max(arr,i):\n",
    "    if i==0:\n",
    "        print(i)\n",
    "        return arr[0]\n",
    "    elif i==1:\n",
    "        print(i)\n",
    "        return max(arr[0],arr[1])\n",
    "    else:\n",
    "        A=get_max(arr,i-2)+arr[i]\n",
    "        B=get_max(arr,i-1)\n",
    "        max_temp=max(A,B)\n",
    "        \n",
    "        print(i,\"--\",max_temp)\n",
    "        return max(A,B)\n",
    "get_max(arr,6)"
   ]
  },
  {
   "cell_type": "code",
   "execution_count": 12,
   "metadata": {},
   "outputs": [
    {
     "data": {
      "text/plain": [
       "15.0"
      ]
     },
     "execution_count": 12,
     "metadata": {},
     "output_type": "execute_result"
    }
   ],
   "source": [
    "#怎么规避了重叠子问题呢？？\n",
    "import numpy as np\n",
    "def dp_opt(arr):\n",
    "    opt=np.zeros(len(arr))\n",
    "    \n",
    "    opt[0]=arr[0]\n",
    "    opt[1]=max(arr[0],arr[1])\n",
    "    for i in range(2,len(arr)):\n",
    "        \n",
    "        A=opt[i-2]+arr[i]\n",
    "        B=opt[i-1]\n",
    "        opt[i]=max(A,B)\n",
    "    return opt[len(arr)-1]\n",
    "dp_opt(arr)"
   ]
  },
  {
   "cell_type": "code",
   "execution_count": null,
   "metadata": {},
   "outputs": [],
   "source": []
  }
 ],
 "metadata": {
  "kernelspec": {
   "display_name": "Python 3",
   "language": "python",
   "name": "python3"
  },
  "language_info": {
   "codemirror_mode": {
    "name": "ipython",
    "version": 3
   },
   "file_extension": ".py",
   "mimetype": "text/x-python",
   "name": "python",
   "nbconvert_exporter": "python",
   "pygments_lexer": "ipython3",
   "version": "3.6.4"
  }
 },
 "nbformat": 4,
 "nbformat_minor": 2
}
