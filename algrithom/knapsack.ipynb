{
 "cells": [
  {
   "cell_type": "markdown",
   "metadata": {},
   "source": [
    "### 动态规划和贪心的区别"
   ]
  },
  {
   "cell_type": "code",
   "execution_count": 2,
   "metadata": {},
   "outputs": [
    {
     "name": "stdout",
     "output_type": "stream",
     "text": [
      "True\n",
      "True\n",
      "False\n"
     ]
    }
   ],
   "source": [
    "##背包问题\n",
    "\n",
    "#递归形式\n",
    "arr=[3,34,4,12,5,2]\n",
    "def rec_arr(arr,i,s):\n",
    "    if(s==0):\n",
    "        return True\n",
    "    elif(i==0):\n",
    "        return arr[i]==s\n",
    "    elif(arr[i]>s):\n",
    "        return rec_arr(arr,i-1,s)\n",
    "    else:\n",
    "        A=rec_arr(arr,i-1,s)\n",
    "        B=rec_arr(arr,i-1,s-arr[i])\n",
    "        return A or B\n",
    "print(rec_arr(arr,5,9))\n",
    "print(rec_arr(arr,5,20))\n",
    "print(rec_arr(arr,5,120))"
   ]
  },
  {
   "cell_type": "code",
   "execution_count": 4,
   "metadata": {},
   "outputs": [
    {
     "name": "stdout",
     "output_type": "stream",
     "text": [
      "True\n",
      "True\n",
      "False\n"
     ]
    }
   ],
   "source": [
    "## 非递归形式\n",
    "import numpy as np\n",
    "def dp_subset(arr,S):\n",
    "    subset=np.zeros((len(arr),S+1),dtype=bool)\n",
    "    #边界上的数字\n",
    "    subset[:,0]=True\n",
    "    subset[0,:]=False\n",
    "    subset[0,arr[0]]=True\n",
    "    \n",
    "    for i in range(1,len(arr)):\n",
    "        for s in range(1,S+1):\n",
    "            if(arr[i]>s):\n",
    "                subset[i,s]=subset[i-1,s]\n",
    "            else:\n",
    "                A=subset[i-1,s-arr[i]]\n",
    "                B=subset[i-1,s]\n",
    "                subset[i,s]=A or B\n",
    "    r,c=subset.shape\n",
    "    return subset[r-1,c-1]\n",
    "print(dp_subset(arr,9))\n",
    "print(dp_subset(arr,20))\n",
    "print(dp_subset(arr,200))\n",
    "    \n",
    "    \n",
    "    \n",
    "    \n",
    "    "
   ]
  },
  {
   "cell_type": "code",
   "execution_count": null,
   "metadata": {},
   "outputs": [],
   "source": []
  }
 ],
 "metadata": {
  "kernelspec": {
   "display_name": "Python 3",
   "language": "python",
   "name": "python3"
  },
  "language_info": {
   "codemirror_mode": {
    "name": "ipython",
    "version": 3
   },
   "file_extension": ".py",
   "mimetype": "text/x-python",
   "name": "python",
   "nbconvert_exporter": "python",
   "pygments_lexer": "ipython3",
   "version": "3.6.4"
  }
 },
 "nbformat": 4,
 "nbformat_minor": 2
}
